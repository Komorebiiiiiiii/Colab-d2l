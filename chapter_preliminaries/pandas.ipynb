{
  "cells": [
    {
      "cell_type": "markdown",
      "metadata": {
        "id": "view-in-github",
        "colab_type": "text"
      },
      "source": [
        "<a href=\"https://colab.research.google.com/github/Komorebiiiiiiii/Colab-d2l/blob/main/chapter_preliminaries/pandas.ipynb\" target=\"_parent\"><img src=\"https://colab.research.google.com/assets/colab-badge.svg\" alt=\"Open In Colab\"/></a>"
      ]
    },
    {
      "cell_type": "markdown",
      "id": "c997178f",
      "metadata": {
        "id": "c997178f"
      },
      "source": [
        "The following additional libraries are needed to run this\n",
        "notebook. Note that running on Colab is experimental, please report a Github\n",
        "issue if you have any problem."
      ]
    },
    {
      "cell_type": "code",
      "execution_count": 1,
      "id": "7976051b",
      "metadata": {
        "id": "7976051b",
        "outputId": "ef0282ad-790a-47d8-e9d4-d0ef06447343",
        "colab": {
          "base_uri": "https://localhost:8080/",
          "height": 666
        }
      },
      "outputs": [
        {
          "output_type": "stream",
          "name": "stdout",
          "text": [
            "Collecting mxnet-cu101==1.7.0\n",
            "  Downloading mxnet_cu101-1.7.0-py2.py3-none-manylinux2014_x86_64.whl.metadata (3.0 kB)\n",
            "Collecting numpy<2.0.0,>1.16.0 (from mxnet-cu101==1.7.0)\n",
            "  Downloading numpy-1.26.4-cp311-cp311-manylinux_2_17_x86_64.manylinux2014_x86_64.whl.metadata (61 kB)\n",
            "\u001b[2K     \u001b[90m━━━━━━━━━━━━━━━━━━━━━━━━━━━━━━━━━━━━━━━━\u001b[0m \u001b[32m61.0/61.0 kB\u001b[0m \u001b[31m2.5 MB/s\u001b[0m eta \u001b[36m0:00:00\u001b[0m\n",
            "\u001b[?25hRequirement already satisfied: requests<3,>=2.20.0 in /usr/local/lib/python3.11/dist-packages (from mxnet-cu101==1.7.0) (2.32.3)\n",
            "Collecting graphviz<0.9.0,>=0.8.1 (from mxnet-cu101==1.7.0)\n",
            "  Downloading graphviz-0.8.4-py2.py3-none-any.whl.metadata (6.4 kB)\n",
            "Requirement already satisfied: charset-normalizer<4,>=2 in /usr/local/lib/python3.11/dist-packages (from requests<3,>=2.20.0->mxnet-cu101==1.7.0) (3.4.2)\n",
            "Requirement already satisfied: idna<4,>=2.5 in /usr/local/lib/python3.11/dist-packages (from requests<3,>=2.20.0->mxnet-cu101==1.7.0) (3.10)\n",
            "Requirement already satisfied: urllib3<3,>=1.21.1 in /usr/local/lib/python3.11/dist-packages (from requests<3,>=2.20.0->mxnet-cu101==1.7.0) (2.4.0)\n",
            "Requirement already satisfied: certifi>=2017.4.17 in /usr/local/lib/python3.11/dist-packages (from requests<3,>=2.20.0->mxnet-cu101==1.7.0) (2025.6.15)\n",
            "Downloading mxnet_cu101-1.7.0-py2.py3-none-manylinux2014_x86_64.whl (846.0 MB)\n",
            "\u001b[2K   \u001b[90m━━━━━━━━━━━━━━━━━━━━━━━━━━━━━━━━━━━━━━━━\u001b[0m \u001b[32m846.0/846.0 MB\u001b[0m \u001b[31m1.2 MB/s\u001b[0m eta \u001b[36m0:00:00\u001b[0m\n",
            "\u001b[?25hDownloading graphviz-0.8.4-py2.py3-none-any.whl (16 kB)\n",
            "Downloading numpy-1.26.4-cp311-cp311-manylinux_2_17_x86_64.manylinux2014_x86_64.whl (18.3 MB)\n",
            "\u001b[2K   \u001b[90m━━━━━━━━━━━━━━━━━━━━━━━━━━━━━━━━━━━━━━━━\u001b[0m \u001b[32m18.3/18.3 MB\u001b[0m \u001b[31m86.6 MB/s\u001b[0m eta \u001b[36m0:00:00\u001b[0m\n",
            "\u001b[?25hInstalling collected packages: numpy, graphviz, mxnet-cu101\n",
            "  Attempting uninstall: numpy\n",
            "    Found existing installation: numpy 2.0.2\n",
            "    Uninstalling numpy-2.0.2:\n",
            "      Successfully uninstalled numpy-2.0.2\n",
            "  Attempting uninstall: graphviz\n",
            "    Found existing installation: graphviz 0.21\n",
            "    Uninstalling graphviz-0.21:\n",
            "      Successfully uninstalled graphviz-0.21\n",
            "\u001b[31mERROR: pip's dependency resolver does not currently take into account all the packages that are installed. This behaviour is the source of the following dependency conflicts.\n",
            "thinc 8.3.6 requires numpy<3.0.0,>=2.0.0, but you have numpy 1.26.4 which is incompatible.\u001b[0m\u001b[31m\n",
            "\u001b[0mSuccessfully installed graphviz-0.8.4 mxnet-cu101-1.7.0 numpy-1.26.4\n"
          ]
        },
        {
          "output_type": "display_data",
          "data": {
            "application/vnd.colab-display-data+json": {
              "pip_warning": {
                "packages": [
                  "numpy"
                ]
              },
              "id": "db118bbf613e4c50b729581bf37ee353"
            }
          },
          "metadata": {}
        }
      ],
      "source": [
        "!pip install -U mxnet-cu101==1.7.0\n"
      ]
    },
    {
      "cell_type": "markdown",
      "id": "98da673f",
      "metadata": {
        "origin_pos": 0,
        "id": "98da673f"
      },
      "source": [
        "# 数据预处理\n",
        ":label:`sec_pandas`\n",
        "\n",
        "为了能用深度学习来解决现实世界的问题，我们经常从预处理原始数据开始，\n",
        "而不是从那些准备好的张量格式数据开始。\n",
        "在Python中常用的数据分析工具中，我们通常使用`pandas`软件包。\n",
        "像庞大的Python生态系统中的许多其他扩展包一样，`pandas`可以与张量兼容。\n",
        "本节我们将简要介绍使用`pandas`预处理原始数据，并将原始数据转换为张量格式的步骤。\n",
        "后面的章节将介绍更多的数据预处理技术。\n",
        "\n",
        "## 读取数据集\n",
        "\n",
        "举一个例子，我们首先(**创建一个人工数据集，并存储在CSV（逗号分隔值）文件**)\n",
        "`../data/house_tiny.csv`中。\n",
        "以其他格式存储的数据也可以通过类似的方式进行处理。\n",
        "下面我们将数据集按行写入CSV文件中。\n"
      ]
    },
    {
      "cell_type": "code",
      "execution_count": 1,
      "id": "a3b09ac9",
      "metadata": {
        "execution": {
          "iopub.execute_input": "2023-08-18T07:09:18.851905Z",
          "iopub.status.busy": "2023-08-18T07:09:18.851436Z",
          "iopub.status.idle": "2023-08-18T07:09:18.894486Z",
          "shell.execute_reply": "2023-08-18T07:09:18.893332Z"
        },
        "origin_pos": 1,
        "tab": [
          "mxnet"
        ],
        "id": "a3b09ac9"
      },
      "outputs": [],
      "source": [
        "import os\n",
        "\n",
        "os.makedirs(os.path.join('..', 'data'), exist_ok=True)\n",
        "data_file = os.path.join('..', 'data', 'house_tiny.csv')\n",
        "with open(data_file, 'w') as f:\n",
        "    f.write('NumRooms,Alley,Price\\n')  # 列名\n",
        "    f.write('NA,Pave,127500\\n')  # 每行表示一个数据样本\n",
        "    f.write('2,NA,106000\\n')\n",
        "    f.write('4,NA,178100\\n')\n",
        "    f.write('NA,NA,140000\\n')"
      ]
    },
    {
      "cell_type": "markdown",
      "id": "e4770ca7",
      "metadata": {
        "origin_pos": 2,
        "id": "e4770ca7"
      },
      "source": [
        "要[**从创建的CSV文件中加载原始数据集**]，我们导入`pandas`包并调用`read_csv`函数。该数据集有四行三列。其中每行描述了房间数量（“NumRooms”）、巷子类型（“Alley”）和房屋价格（“Price”）。\n"
      ]
    },
    {
      "cell_type": "code",
      "execution_count": 2,
      "id": "a94b4077",
      "metadata": {
        "execution": {
          "iopub.execute_input": "2023-08-18T07:09:18.901303Z",
          "iopub.status.busy": "2023-08-18T07:09:18.900888Z",
          "iopub.status.idle": "2023-08-18T07:09:19.611934Z",
          "shell.execute_reply": "2023-08-18T07:09:19.610620Z"
        },
        "origin_pos": 3,
        "tab": [
          "mxnet"
        ],
        "id": "a94b4077",
        "outputId": "48ec2e59-4dd7-4c98-db56-d3085cd843b5",
        "colab": {
          "base_uri": "https://localhost:8080/"
        }
      },
      "outputs": [
        {
          "output_type": "stream",
          "name": "stdout",
          "text": [
            "   NumRooms Alley   Price\n",
            "0       NaN  Pave  127500\n",
            "1       2.0   NaN  106000\n",
            "2       4.0   NaN  178100\n",
            "3       NaN   NaN  140000\n"
          ]
        }
      ],
      "source": [
        "# 如果没有安装pandas，只需取消对以下行的注释来安装pandas\n",
        "# !pip install pandas\n",
        "import pandas as pd\n",
        "\n",
        "data = pd.read_csv(data_file)\n",
        "print(data)"
      ]
    },
    {
      "cell_type": "markdown",
      "id": "b5444773",
      "metadata": {
        "origin_pos": 4,
        "id": "b5444773"
      },
      "source": [
        "## 处理缺失值\n",
        "\n",
        "注意，“NaN”项代表缺失值。\n",
        "[**为了处理缺失的数据，典型的方法包括*插值法*和*删除法*，**]\n",
        "其中插值法用一个替代值弥补缺失值，而删除法则直接忽略缺失值。\n",
        "在(**这里，我们将考虑插值法**)。\n",
        "\n",
        "通过位置索引`iloc`，我们将`data`分成`inputs`和`outputs`，\n",
        "其中前者为`data`的前两列，而后者为`data`的最后一列。\n",
        "对于`inputs`中缺少的数值，我们用同一列的均值替换“NaN”项。numeric_only=1表示只对数值进行均值计算\n"
      ]
    },
    {
      "cell_type": "code",
      "execution_count": 7,
      "id": "e6c7cd26",
      "metadata": {
        "execution": {
          "iopub.execute_input": "2023-08-18T07:09:19.620823Z",
          "iopub.status.busy": "2023-08-18T07:09:19.618609Z",
          "iopub.status.idle": "2023-08-18T07:09:19.639740Z",
          "shell.execute_reply": "2023-08-18T07:09:19.638476Z"
        },
        "origin_pos": 5,
        "tab": [
          "mxnet"
        ],
        "id": "e6c7cd26",
        "outputId": "4a9b37e7-f0d5-4015-effc-c698c8bdc109",
        "colab": {
          "base_uri": "https://localhost:8080/"
        }
      },
      "outputs": [
        {
          "output_type": "stream",
          "name": "stdout",
          "text": [
            "   NumRooms Alley\n",
            "0       3.0  Pave\n",
            "1       2.0   NaN\n",
            "2       4.0   NaN\n",
            "3       3.0   NaN\n"
          ]
        }
      ],
      "source": [
        "inputs, outputs = data.iloc[:, 0:2], data.iloc[:, 2]\n",
        "inputs = inputs.fillna(inputs.mean(numeric_only=True))\n",
        "print(inputs)"
      ]
    },
    {
      "cell_type": "markdown",
      "id": "b13137a5",
      "metadata": {
        "origin_pos": 6,
        "id": "b13137a5"
      },
      "source": [
        "[**对于`inputs`中的类别值或离散值，我们将“NaN”视为一个类别。**]\n",
        "由于“巷子类型”（“Alley”）列只接受两种类型的类别值“Pave”和“NaN”，\n",
        "`pandas`可以自动将此列转换为两列“Alley_Pave”和“Alley_nan”。\n",
        "巷子类型为“Pave”的行会将“Alley_Pave”的值设置为1，“Alley_nan”的值设置为0。\n",
        "缺少巷子类型的行会将“Alley_Pave”和“Alley_nan”分别设置为0和1。\n"
      ]
    },
    {
      "cell_type": "code",
      "execution_count": 8,
      "id": "03318984",
      "metadata": {
        "execution": {
          "iopub.execute_input": "2023-08-18T07:09:19.645885Z",
          "iopub.status.busy": "2023-08-18T07:09:19.645427Z",
          "iopub.status.idle": "2023-08-18T07:09:19.670890Z",
          "shell.execute_reply": "2023-08-18T07:09:19.669558Z"
        },
        "origin_pos": 7,
        "tab": [
          "mxnet"
        ],
        "id": "03318984",
        "outputId": "9e4586cd-d1db-40b6-b04d-d2e51ee0f850",
        "colab": {
          "base_uri": "https://localhost:8080/"
        }
      },
      "outputs": [
        {
          "output_type": "stream",
          "name": "stdout",
          "text": [
            "   NumRooms  Alley_Pave  Alley_nan\n",
            "0       3.0        True      False\n",
            "1       2.0       False       True\n",
            "2       4.0       False       True\n",
            "3       3.0       False       True\n"
          ]
        }
      ],
      "source": [
        "inputs = pd.get_dummies(inputs, dummy_na=True)\n",
        "print(inputs)"
      ]
    },
    {
      "cell_type": "markdown",
      "id": "8379b09e",
      "metadata": {
        "origin_pos": 8,
        "id": "8379b09e"
      },
      "source": [
        "## 转换为张量格式\n",
        "\n",
        "[**现在`inputs`和`outputs`中的所有条目都是数值类型，它们可以转换为张量格式。**]\n",
        "当数据采用张量格式后，可以通过在 :numref:`sec_ndarray`中引入的那些张量函数来进一步操作。\n"
      ]
    },
    {
      "cell_type": "code",
      "execution_count": 11,
      "id": "8e9d0944",
      "metadata": {
        "execution": {
          "iopub.execute_input": "2023-08-18T07:09:19.677358Z",
          "iopub.status.busy": "2023-08-18T07:09:19.676617Z",
          "iopub.status.idle": "2023-08-18T07:09:22.573970Z",
          "shell.execute_reply": "2023-08-18T07:09:22.572265Z"
        },
        "origin_pos": 9,
        "tab": [
          "mxnet"
        ],
        "id": "8e9d0944",
        "outputId": "55e94e6f-e470-40fe-9388-bc308a832a96",
        "colab": {
          "base_uri": "https://localhost:8080/"
        }
      },
      "outputs": [
        {
          "output_type": "execute_result",
          "data": {
            "text/plain": [
              "(array([[3., 1., 0.],\n",
              "        [2., 0., 1.],\n",
              "        [4., 0., 1.],\n",
              "        [3., 0., 1.]]),\n",
              " array([127500., 106000., 178100., 140000.]))"
            ]
          },
          "metadata": {},
          "execution_count": 11
        }
      ],
      "source": [
        "#from mxnet import np\n",
        "import numpy as np\n",
        "X, y = np.array(inputs.to_numpy(dtype=float)), np.array(outputs.to_numpy(dtype=float))\n",
        "X, y"
      ]
    },
    {
      "cell_type": "markdown",
      "id": "404fe278",
      "metadata": {
        "origin_pos": 13,
        "id": "404fe278"
      },
      "source": [
        "## 小结\n",
        "\n",
        "* `pandas`软件包是Python中常用的数据分析工具中，`pandas`可以与张量兼容。\n",
        "* 用`pandas`处理缺失的数据时，我们可根据情况选择用插值法和删除法。\n",
        "\n",
        "## 练习\n",
        "\n",
        "创建包含更多行和列的原始数据集。\n",
        "\n",
        "1. 删除缺失值最多的列。\n",
        "2. 将预处理后的数据集转换为张量格式。\n"
      ]
    },
    {
      "cell_type": "code",
      "source": [
        "#import numpy\n",
        "#import pandas as pd\n",
        "#import os\n",
        "import os\n",
        "\n",
        "# 创建目录和文件\n",
        "os.makedirs(os.path.join('..', 'data'), exist_ok=True)\n",
        "dataFile = os.path.join('..', 'data', 'house.csv')\n",
        "\n",
        "with open(dataFile, 'w') as f:\n",
        "    # 写入列名（新增SquareFeet, YearBuilt, Garage三列）\n",
        "    f.write('NumRooms,Alley,SquareFeet,YearBuilt,Garage,Price\\n')\n",
        "\n",
        "    # 写入10行数据（包含各种缺失值组合）\n",
        "    f.write('3,Pave,1200,1990,1,127500\\n')\n",
        "    f.write('NA,NA,1500,2005,2,250000\\n')\n",
        "    f.write('4,NA,1800,NA,1,NA\\n')\n",
        "    f.write('2,Pave,NA,1985,0,98000\\n')\n",
        "    f.write('5,NA,2200,2010,2,320000\\n')\n",
        "    f.write('NA,Gravel,1600,1995,1,142000\\n')\n",
        "    f.write('3,NA,NA,2000,NA,165000\\n')\n",
        "    f.write('4,Pave,2000,NA,2,275000\\n')\n",
        "    f.write('NA,NA,1700,2015,1,188000\\n')\n",
        "    f.write('2,Gravel,1100,1975,0,75000\\n')"
      ],
      "metadata": {
        "id": "tUk8fkZJCniH"
      },
      "id": "tUk8fkZJCniH",
      "execution_count": 13,
      "outputs": []
    },
    {
      "cell_type": "markdown",
      "source": [
        "1.删除缺失值最多的列"
      ],
      "metadata": {
        "id": "w2L-mSe3ErfY"
      },
      "id": "w2L-mSe3ErfY"
    },
    {
      "cell_type": "code",
      "source": [
        "#读入数据文件\n",
        "data1 = pd.read_csv(dataFile)\n",
        "print(data1)"
      ],
      "metadata": {
        "id": "rQ4wocL4Et6D",
        "outputId": "1a7a7974-bf0a-40df-9667-43f50a62dc61",
        "colab": {
          "base_uri": "https://localhost:8080/"
        }
      },
      "id": "rQ4wocL4Et6D",
      "execution_count": 14,
      "outputs": [
        {
          "output_type": "stream",
          "name": "stdout",
          "text": [
            "   NumRooms   Alley  SquareFeet  YearBuilt  Garage     Price\n",
            "0       3.0    Pave      1200.0     1990.0     1.0  127500.0\n",
            "1       NaN     NaN      1500.0     2005.0     2.0  250000.0\n",
            "2       4.0     NaN      1800.0        NaN     1.0       NaN\n",
            "3       2.0    Pave         NaN     1985.0     0.0   98000.0\n",
            "4       5.0     NaN      2200.0     2010.0     2.0  320000.0\n",
            "5       NaN  Gravel      1600.0     1995.0     1.0  142000.0\n",
            "6       3.0     NaN         NaN     2000.0     NaN  165000.0\n",
            "7       4.0    Pave      2000.0        NaN     2.0  275000.0\n",
            "8       NaN     NaN      1700.0     2015.0     1.0  188000.0\n",
            "9       2.0  Gravel      1100.0     1975.0     0.0   75000.0\n"
          ]
        }
      ]
    },
    {
      "cell_type": "code",
      "source": [
        "#找到每列的nan数\n",
        "nan_count = data1.isna().sum()\n",
        "print(nan_count)"
      ],
      "metadata": {
        "id": "VuNjgvJIHPok",
        "outputId": "85e05ba5-0a1b-470e-ec82-63b49be5c61a",
        "colab": {
          "base_uri": "https://localhost:8080/"
        }
      },
      "id": "VuNjgvJIHPok",
      "execution_count": 15,
      "outputs": [
        {
          "output_type": "stream",
          "name": "stdout",
          "text": [
            "NumRooms      3\n",
            "Alley         5\n",
            "SquareFeet    2\n",
            "YearBuilt     2\n",
            "Garage        1\n",
            "Price         1\n",
            "dtype: int64\n"
          ]
        }
      ]
    },
    {
      "cell_type": "code",
      "source": [
        "#找到nan_count中最大数的索引\n",
        "max_index = nan_count.idxmax()\n",
        "print(max_index)"
      ],
      "metadata": {
        "id": "EAIYStKzHqhk",
        "outputId": "ffeb6cb6-de03-4bb7-c320-7cd5446eb5a8",
        "colab": {
          "base_uri": "https://localhost:8080/"
        }
      },
      "id": "EAIYStKzHqhk",
      "execution_count": 16,
      "outputs": [
        {
          "output_type": "stream",
          "name": "stdout",
          "text": [
            "Alley\n"
          ]
        }
      ]
    },
    {
      "cell_type": "code",
      "source": [
        "#删除nana最大的列\n",
        "data1 = data1.drop(max_index, axis=1)#此处axis=1表示删除列，也可替换为axis='columns'\n",
        "print(data1)"
      ],
      "metadata": {
        "id": "cAAE_u5EHz5h",
        "outputId": "b3e5d5b2-3155-40b7-b617-4f76cc8fa2a5",
        "colab": {
          "base_uri": "https://localhost:8080/"
        }
      },
      "id": "cAAE_u5EHz5h",
      "execution_count": 17,
      "outputs": [
        {
          "output_type": "stream",
          "name": "stdout",
          "text": [
            "   NumRooms  SquareFeet  YearBuilt  Garage     Price\n",
            "0       3.0      1200.0     1990.0     1.0  127500.0\n",
            "1       NaN      1500.0     2005.0     2.0  250000.0\n",
            "2       4.0      1800.0        NaN     1.0       NaN\n",
            "3       2.0         NaN     1985.0     0.0   98000.0\n",
            "4       5.0      2200.0     2010.0     2.0  320000.0\n",
            "5       NaN      1600.0     1995.0     1.0  142000.0\n",
            "6       3.0         NaN     2000.0     NaN  165000.0\n",
            "7       4.0      2000.0        NaN     2.0  275000.0\n",
            "8       NaN      1700.0     2015.0     1.0  188000.0\n",
            "9       2.0      1100.0     1975.0     0.0   75000.0\n"
          ]
        }
      ]
    },
    {
      "cell_type": "markdown",
      "source": [
        "2.将预处理的数据集转换为张量格式"
      ],
      "metadata": {
        "id": "OOdwdsVlIW2w"
      },
      "id": "OOdwdsVlIW2w"
    },
    {
      "cell_type": "code",
      "source": [
        "#处理输入输出\n",
        "inputs,outputs=data1.iloc[:,0:4],data1.iloc[:,4]\n",
        "inputs,outputs"
      ],
      "metadata": {
        "id": "xbSoMHDFIKIJ",
        "outputId": "ac18277d-f734-4749-c06d-d0a604710860",
        "colab": {
          "base_uri": "https://localhost:8080/"
        }
      },
      "id": "xbSoMHDFIKIJ",
      "execution_count": 21,
      "outputs": [
        {
          "output_type": "execute_result",
          "data": {
            "text/plain": [
              "(   NumRooms  SquareFeet  YearBuilt  Garage\n",
              " 0       3.0      1200.0     1990.0     1.0\n",
              " 1       NaN      1500.0     2005.0     2.0\n",
              " 2       4.0      1800.0        NaN     1.0\n",
              " 3       2.0         NaN     1985.0     0.0\n",
              " 4       5.0      2200.0     2010.0     2.0\n",
              " 5       NaN      1600.0     1995.0     1.0\n",
              " 6       3.0         NaN     2000.0     NaN\n",
              " 7       4.0      2000.0        NaN     2.0\n",
              " 8       NaN      1700.0     2015.0     1.0\n",
              " 9       2.0      1100.0     1975.0     0.0,\n",
              " 0    127500.0\n",
              " 1    250000.0\n",
              " 2         NaN\n",
              " 3     98000.0\n",
              " 4    320000.0\n",
              " 5    142000.0\n",
              " 6    165000.0\n",
              " 7    275000.0\n",
              " 8    188000.0\n",
              " 9     75000.0\n",
              " Name: Price, dtype: float64)"
            ]
          },
          "metadata": {},
          "execution_count": 21
        }
      ]
    },
    {
      "cell_type": "code",
      "source": [
        "#使用插值法填补输入空值\n",
        "inputs=inputs.fillna(inputs.mean(numeric_only=True))\n",
        "outputs=outputs.fillna(outputs.mean(numeric_only=True))\n",
        "inputs,outputs"
      ],
      "metadata": {
        "id": "8snSRORXKbm8",
        "outputId": "ae81d9ac-4be3-450c-8ff9-3e8ca9573790",
        "colab": {
          "base_uri": "https://localhost:8080/"
        }
      },
      "id": "8snSRORXKbm8",
      "execution_count": 23,
      "outputs": [
        {
          "output_type": "execute_result",
          "data": {
            "text/plain": [
              "(   NumRooms  SquareFeet  YearBuilt    Garage\n",
              " 0  3.000000      1200.0   1990.000  1.000000\n",
              " 1  3.285714      1500.0   2005.000  2.000000\n",
              " 2  4.000000      1800.0   1996.875  1.000000\n",
              " 3  2.000000      1637.5   1985.000  0.000000\n",
              " 4  5.000000      2200.0   2010.000  2.000000\n",
              " 5  3.285714      1600.0   1995.000  1.000000\n",
              " 6  3.000000      1637.5   2000.000  1.111111\n",
              " 7  4.000000      2000.0   1996.875  2.000000\n",
              " 8  3.285714      1700.0   2015.000  1.000000\n",
              " 9  2.000000      1100.0   1975.000  0.000000,\n",
              " 0    127500.000000\n",
              " 1    250000.000000\n",
              " 2    182277.777778\n",
              " 3     98000.000000\n",
              " 4    320000.000000\n",
              " 5    142000.000000\n",
              " 6    165000.000000\n",
              " 7    275000.000000\n",
              " 8    188000.000000\n",
              " 9     75000.000000\n",
              " Name: Price, dtype: float64)"
            ]
          },
          "metadata": {},
          "execution_count": 23
        }
      ]
    },
    {
      "cell_type": "code",
      "source": [
        "'''\n",
        "#该数据集没有离散值或类型值，无需pandas的dummy方法\n",
        "inputs = pd.get_dummies(inputs,dummy_na=True)\n",
        "print(inputs)\n",
        "'''"
      ],
      "metadata": {
        "id": "N636LcWQKff6"
      },
      "id": "N636LcWQKff6",
      "execution_count": null,
      "outputs": []
    },
    {
      "cell_type": "code",
      "source": [
        "#将输入输出转化为张量格式\n",
        "import torch\n",
        "X,y=torch.tensor(inputs.values),torch.tensor(outputs.values)\n",
        "# X,y=np.array(inputs.to_numpy(dtype=float)),np.array(outputs.to_numpy(dtype=float))\n",
        "X,y"
      ],
      "metadata": {
        "id": "rOffhT7uKd0S",
        "outputId": "7010b629-1b0c-451e-9b4b-8d38eeafb8ae",
        "colab": {
          "base_uri": "https://localhost:8080/"
        }
      },
      "id": "rOffhT7uKd0S",
      "execution_count": 26,
      "outputs": [
        {
          "output_type": "execute_result",
          "data": {
            "text/plain": [
              "(tensor([[3.0000e+00, 1.2000e+03, 1.9900e+03, 1.0000e+00],\n",
              "         [3.2857e+00, 1.5000e+03, 2.0050e+03, 2.0000e+00],\n",
              "         [4.0000e+00, 1.8000e+03, 1.9969e+03, 1.0000e+00],\n",
              "         [2.0000e+00, 1.6375e+03, 1.9850e+03, 0.0000e+00],\n",
              "         [5.0000e+00, 2.2000e+03, 2.0100e+03, 2.0000e+00],\n",
              "         [3.2857e+00, 1.6000e+03, 1.9950e+03, 1.0000e+00],\n",
              "         [3.0000e+00, 1.6375e+03, 2.0000e+03, 1.1111e+00],\n",
              "         [4.0000e+00, 2.0000e+03, 1.9969e+03, 2.0000e+00],\n",
              "         [3.2857e+00, 1.7000e+03, 2.0150e+03, 1.0000e+00],\n",
              "         [2.0000e+00, 1.1000e+03, 1.9750e+03, 0.0000e+00]], dtype=torch.float64),\n",
              " tensor([127500.0000, 250000.0000, 182277.7778,  98000.0000, 320000.0000,\n",
              "         142000.0000, 165000.0000, 275000.0000, 188000.0000,  75000.0000],\n",
              "        dtype=torch.float64))"
            ]
          },
          "metadata": {},
          "execution_count": 26
        }
      ]
    },
    {
      "cell_type": "markdown",
      "source": [],
      "metadata": {
        "id": "LVUUspveC8QE"
      },
      "id": "LVUUspveC8QE"
    },
    {
      "cell_type": "markdown",
      "id": "9e4e11a3",
      "metadata": {
        "origin_pos": 14,
        "tab": [
          "mxnet"
        ],
        "id": "9e4e11a3"
      },
      "source": [
        "[Discussions](https://discuss.d2l.ai/t/1749)\n"
      ]
    }
  ],
  "metadata": {
    "kernelspec": {
      "display_name": "Python 3",
      "name": "python3"
    },
    "language_info": {
      "name": "python"
    },
    "required_libs": [],
    "colab": {
      "provenance": [],
      "include_colab_link": true
    }
  },
  "nbformat": 4,
  "nbformat_minor": 5
}