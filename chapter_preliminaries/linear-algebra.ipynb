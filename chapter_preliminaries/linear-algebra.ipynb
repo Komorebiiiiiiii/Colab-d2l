{
  "cells": [
    {
      "cell_type": "markdown",
      "metadata": {
        "id": "view-in-github",
        "colab_type": "text"
      },
      "source": [
        "<a href=\"https://colab.research.google.com/github/Komorebiiiiiiii/Colab-d2l/blob/main/chapter_preliminaries/linear-algebra.ipynb\" target=\"_parent\"><img src=\"https://colab.research.google.com/assets/colab-badge.svg\" alt=\"Open In Colab\"/></a>"
      ]
    },
    {
      "cell_type": "markdown",
      "id": "5d5909e7",
      "metadata": {
        "id": "5d5909e7"
      },
      "source": [
        "The following additional libraries are needed to run this\n",
        "notebook. Note that running on Colab is experimental, please report a Github\n",
        "issue if you have any problem."
      ]
    },
    {
      "cell_type": "code",
      "execution_count": 4,
      "id": "05c42dd7",
      "metadata": {
        "id": "05c42dd7",
        "outputId": "a7c3a713-7db7-42bf-8001-0d721fcd5ced",
        "colab": {
          "base_uri": "https://localhost:8080/"
        }
      },
      "outputs": [
        {
          "output_type": "stream",
          "name": "stdout",
          "text": [
            "Requirement already satisfied: mxnet-cu101 in /usr/local/lib/python3.11/dist-packages (1.7.0)\n",
            "Collecting mxnet-cu101\n",
            "  Downloading mxnet_cu101-1.9.1-py3-none-manylinux2014_x86_64.whl.metadata (3.5 kB)\n",
            "Requirement already satisfied: numpy<2.0.0,>1.16.0 in /usr/local/lib/python3.11/dist-packages (from mxnet-cu101) (1.26.4)\n",
            "Requirement already satisfied: requests<3,>=2.20.0 in /usr/local/lib/python3.11/dist-packages (from mxnet-cu101) (2.32.3)\n",
            "Requirement already satisfied: graphviz<0.9.0,>=0.8.1 in /usr/local/lib/python3.11/dist-packages (from mxnet-cu101) (0.8.4)\n",
            "Requirement already satisfied: charset-normalizer<4,>=2 in /usr/local/lib/python3.11/dist-packages (from requests<3,>=2.20.0->mxnet-cu101) (3.4.2)\n",
            "Requirement already satisfied: idna<4,>=2.5 in /usr/local/lib/python3.11/dist-packages (from requests<3,>=2.20.0->mxnet-cu101) (3.10)\n",
            "Requirement already satisfied: urllib3<3,>=1.21.1 in /usr/local/lib/python3.11/dist-packages (from requests<3,>=2.20.0->mxnet-cu101) (2.4.0)\n",
            "Requirement already satisfied: certifi>=2017.4.17 in /usr/local/lib/python3.11/dist-packages (from requests<3,>=2.20.0->mxnet-cu101) (2025.6.15)\n",
            "Downloading mxnet_cu101-1.9.1-py3-none-manylinux2014_x86_64.whl (360.0 MB)\n",
            "\u001b[2K   \u001b[90m━━━━━━━━━━━━━━━━━━━━━━━━━━━━━━━━━━━━━━━━\u001b[0m \u001b[32m360.0/360.0 MB\u001b[0m \u001b[31m4.0 MB/s\u001b[0m eta \u001b[36m0:00:00\u001b[0m\n",
            "\u001b[?25hInstalling collected packages: mxnet-cu101\n",
            "  Attempting uninstall: mxnet-cu101\n",
            "    Found existing installation: mxnet-cu101 1.7.0\n",
            "    Uninstalling mxnet-cu101-1.7.0:\n",
            "      Successfully uninstalled mxnet-cu101-1.7.0\n",
            "Successfully installed mxnet-cu101-1.9.1\n"
          ]
        }
      ],
      "source": [
        "!pip install -U mxnet-cu101\n"
      ]
    },
    {
      "cell_type": "markdown",
      "id": "199d189f",
      "metadata": {
        "origin_pos": 0,
        "id": "199d189f"
      },
      "source": [
        "# 线性代数\n",
        ":label:`sec_linear-algebra`\n",
        "\n",
        "在介绍完如何存储和操作数据后，接下来将简要地回顾一下部分基本线性代数内容。\n",
        "这些内容有助于读者了解和实现本书中介绍的大多数模型。\n",
        "本节将介绍线性代数中的基本数学对象、算术和运算，并用数学符号和相应的代码实现来表示它们。\n",
        "\n",
        "## 标量\n",
        "\n",
        "\n",
        "如果你曾经在餐厅支付餐费，那么应该已经知道一些基本的线性代数，比如在数字间相加或相乘。\n",
        "例如，北京的温度为$52^{\\circ}F$（华氏度，除摄氏度外的另一种温度计量单位）。\n",
        "严格来说，仅包含一个数值被称为*标量*（scalar）。\n",
        "如果要将此华氏度值转换为更常用的摄氏度，\n",
        "则可以计算表达式$c=\\frac{5}{9}(f-32)$，并将$f$赋为$52$。\n",
        "在此等式中，每一项（$5$、$9$和$32$）都是标量值。\n",
        "符号$c$和$f$称为*变量*（variable），它们表示未知的标量值。\n",
        "\n",
        "本书采用了数学表示法，其中标量变量由普通小写字母表示（例如，$x$、$y$和$z$）。\n",
        "本书用$\\mathbb{R}$表示所有（连续）*实数*标量的空间，之后将严格定义*空间*（space）是什么，\n",
        "但现在只要记住表达式$x\\in\\mathbb{R}$是表示$x$是一个实值标量的正式形式。\n",
        "符号$\\in$称为“属于”，它表示“是集合中的成员”。\n",
        "例如$x, y \\in \\{0,1\\}$可以用来表明$x$和$y$是值只能为$0$或$1$的数字。\n",
        "\n",
        "(**标量由只有一个元素的张量表示**)。\n",
        "下面的代码将实例化两个标量，并执行一些熟悉的算术运算，即加法、乘法、除法和指数。\n"
      ]
    },
    {
      "cell_type": "markdown",
      "source": [
        "**正交矩阵U**：\n",
        "\n",
        "        a.所有列相互正交\n",
        "\n",
        "        b.所有列都有单位长度\n",
        "\n",
        "        c.𝑈=𝑈^⊤\n",
        "\n",
        "**置换矩阵**：\n",
        "\n",
        "        a.置换矩阵是一个方形二进制矩阵，它在每行和每列中只有一个1，而在其他地方则为0。\n",
        "\n",
        "        b.置换矩阵是正交矩阵\n"
      ],
      "metadata": {
        "id": "n1tiAKFayxzf"
      },
      "id": "n1tiAKFayxzf"
    },
    {
      "cell_type": "code",
      "execution_count": 2,
      "id": "81cabcdd",
      "metadata": {
        "execution": {
          "iopub.execute_input": "2023-08-18T07:17:38.247887Z",
          "iopub.status.busy": "2023-08-18T07:17:38.247357Z",
          "iopub.status.idle": "2023-08-18T07:17:40.072381Z",
          "shell.execute_reply": "2023-08-18T07:17:40.071475Z"
        },
        "origin_pos": 1,
        "tab": [
          "mxnet"
        ],
        "id": "81cabcdd",
        "outputId": "a5839d5e-afc2-4db9-aa4c-e511facd2461",
        "colab": {
          "base_uri": "https://localhost:8080/"
        }
      },
      "outputs": [
        {
          "output_type": "execute_result",
          "data": {
            "text/plain": [
              "(tensor([5.]), tensor([6.]), tensor([1.5000]), tensor([9.]))"
            ]
          },
          "metadata": {},
          "execution_count": 2
        }
      ],
      "source": [
        "import torch\n",
        "\n",
        "x = torch.tensor([3.0])\n",
        "y = torch.tensor([2.0])\n",
        "\n",
        "x + y, x * y, x / y, x ** y"
      ]
    },
    {
      "cell_type": "markdown",
      "id": "2f07e25f",
      "metadata": {
        "origin_pos": 5,
        "id": "2f07e25f"
      },
      "source": [
        "## 向量\n",
        "\n",
        "[**向量可以被视为标量值组成的列表**]。\n",
        "这些标量值被称为向量的*元素*（element）或*分量*（component）。\n",
        "当向量表示数据集中的样本时，它们的值具有一定的现实意义。\n",
        "例如，如果我们正在训练一个模型来预测贷款违约风险，可能会将每个申请人与一个向量相关联，\n",
        "其分量与其收入、工作年限、过往违约次数和其他因素相对应。\n",
        "如果我们正在研究医院患者可能面临的心脏病发作风险，可能会用一个向量来表示每个患者，\n",
        "其分量为最近的生命体征、胆固醇水平、每天运动时间等。\n",
        "在数学表示法中，向量通常记为粗体、小写的符号\n",
        "（例如，$\\mathbf{x}$、$\\mathbf{y}$和$\\mathbf{z})$）。\n",
        "\n",
        "人们通过一维张量表示向量。一般来说，张量可以具有任意长度，取决于机器的内存限制。\n"
      ]
    },
    {
      "cell_type": "code",
      "execution_count": 10,
      "id": "1a77f247",
      "metadata": {
        "execution": {
          "iopub.execute_input": "2023-08-18T07:17:40.077845Z",
          "iopub.status.busy": "2023-08-18T07:17:40.077205Z",
          "iopub.status.idle": "2023-08-18T07:17:40.083538Z",
          "shell.execute_reply": "2023-08-18T07:17:40.082563Z"
        },
        "origin_pos": 6,
        "tab": [
          "mxnet"
        ],
        "id": "1a77f247",
        "outputId": "ea1e16df-4edd-44ea-e651-ba3805487108",
        "colab": {
          "base_uri": "https://localhost:8080/"
        }
      },
      "outputs": [
        {
          "output_type": "execute_result",
          "data": {
            "text/plain": [
              "tensor([0, 1, 2, 3])"
            ]
          },
          "metadata": {},
          "execution_count": 10
        }
      ],
      "source": [
        "x = torch.arange(4)\n",
        "x"
      ]
    },
    {
      "cell_type": "markdown",
      "id": "01b328e1",
      "metadata": {
        "origin_pos": 10,
        "id": "01b328e1"
      },
      "source": [
        "我们可以使用下标来引用向量的任一元素，例如可以通过$x_i$来引用第$i$个元素。\n",
        "注意，元素$x_i$是一个标量，所以我们在引用它时不会加粗。\n",
        "大量文献认为列向量是向量的默认方向，在本书中也是如此。\n",
        "在数学中，向量$\\mathbf{x}$可以写为：\n",
        "\n",
        "$$\\mathbf{x} =\\begin{bmatrix}x_{1}  \\\\x_{2}  \\\\ \\vdots  \\\\x_{n}\\end{bmatrix},$$\n",
        ":eqlabel:`eq_vec_def`\n",
        "\n",
        "其中$x_1,\\ldots,x_n$是向量的元素。在代码中，我们(**通过张量的索引来访问任一元素**)。\n"
      ]
    },
    {
      "cell_type": "code",
      "execution_count": 11,
      "id": "32a7d783",
      "metadata": {
        "execution": {
          "iopub.execute_input": "2023-08-18T07:17:40.087320Z",
          "iopub.status.busy": "2023-08-18T07:17:40.086707Z",
          "iopub.status.idle": "2023-08-18T07:17:40.093404Z",
          "shell.execute_reply": "2023-08-18T07:17:40.092388Z"
        },
        "origin_pos": 11,
        "tab": [
          "mxnet"
        ],
        "id": "32a7d783",
        "outputId": "c2fcc3fb-08f7-436d-f8c9-004660484ebb",
        "colab": {
          "base_uri": "https://localhost:8080/"
        }
      },
      "outputs": [
        {
          "output_type": "execute_result",
          "data": {
            "text/plain": [
              "tensor(3)"
            ]
          },
          "metadata": {},
          "execution_count": 11
        }
      ],
      "source": [
        "x[3]"
      ]
    },
    {
      "cell_type": "markdown",
      "id": "e679e42c",
      "metadata": {
        "origin_pos": 15,
        "id": "e679e42c"
      },
      "source": [
        "### 长度、维度和形状\n",
        "\n",
        "向量只是一个数字数组，就像每个数组都有一个长度一样，每个向量也是如此。\n",
        "在数学表示法中，如果我们想说一个向量$\\mathbf{x}$由$n$个实值标量组成，\n",
        "可以将其表示为$\\mathbf{x}\\in\\mathbb{R}^n$。\n",
        "向量的长度通常称为向量的*维度*（dimension）。\n",
        "\n",
        "与普通的Python数组一样，我们可以通过调用Python的内置`len()`函数来[**访问张量的长度**]。\n"
      ]
    },
    {
      "cell_type": "code",
      "execution_count": 12,
      "id": "3f1659db",
      "metadata": {
        "execution": {
          "iopub.execute_input": "2023-08-18T07:17:40.097090Z",
          "iopub.status.busy": "2023-08-18T07:17:40.096789Z",
          "iopub.status.idle": "2023-08-18T07:17:40.102174Z",
          "shell.execute_reply": "2023-08-18T07:17:40.101287Z"
        },
        "origin_pos": 16,
        "tab": [
          "mxnet"
        ],
        "id": "3f1659db",
        "outputId": "7dae4e0c-7d35-44cf-de36-22afd82623e9",
        "colab": {
          "base_uri": "https://localhost:8080/"
        }
      },
      "outputs": [
        {
          "output_type": "execute_result",
          "data": {
            "text/plain": [
              "4"
            ]
          },
          "metadata": {},
          "execution_count": 12
        }
      ],
      "source": [
        "len(x)"
      ]
    },
    {
      "cell_type": "markdown",
      "id": "6a4bee68",
      "metadata": {
        "origin_pos": 20,
        "id": "6a4bee68"
      },
      "source": [
        "当用张量表示一个向量（只有一个轴）时，我们也可以通过`.shape`属性访问向量的长度。\n",
        "形状（shape）是一个元素组，列出了张量沿每个轴的长度（维数）。\n",
        "对于(**只有一个轴的张量，形状只有一个元素。**)\n"
      ]
    },
    {
      "cell_type": "code",
      "execution_count": 13,
      "id": "e3887a48",
      "metadata": {
        "execution": {
          "iopub.execute_input": "2023-08-18T07:17:40.105587Z",
          "iopub.status.busy": "2023-08-18T07:17:40.105288Z",
          "iopub.status.idle": "2023-08-18T07:17:40.111111Z",
          "shell.execute_reply": "2023-08-18T07:17:40.110201Z"
        },
        "origin_pos": 21,
        "tab": [
          "mxnet"
        ],
        "id": "e3887a48",
        "outputId": "fb3ce775-aad7-4fac-fc2b-eb8fd97d2bc6",
        "colab": {
          "base_uri": "https://localhost:8080/"
        }
      },
      "outputs": [
        {
          "output_type": "execute_result",
          "data": {
            "text/plain": [
              "torch.Size([4])"
            ]
          },
          "metadata": {},
          "execution_count": 13
        }
      ],
      "source": [
        "x.shape"
      ]
    },
    {
      "cell_type": "code",
      "source": [
        "y = torch.arange(12).reshape(2,2,3)\n",
        "y,y.shape"
      ],
      "metadata": {
        "id": "KI3E_fqJOJie",
        "outputId": "4c882005-5ada-4e7e-f915-91f886da8ace",
        "colab": {
          "base_uri": "https://localhost:8080/"
        }
      },
      "id": "KI3E_fqJOJie",
      "execution_count": 20,
      "outputs": [
        {
          "output_type": "execute_result",
          "data": {
            "text/plain": [
              "(tensor([[[ 0,  1,  2],\n",
              "          [ 3,  4,  5]],\n",
              " \n",
              "         [[ 6,  7,  8],\n",
              "          [ 9, 10, 11]]]),\n",
              " torch.Size([2, 2, 3]))"
            ]
          },
          "metadata": {},
          "execution_count": 20
        }
      ]
    },
    {
      "cell_type": "markdown",
      "id": "2e7594ba",
      "metadata": {
        "origin_pos": 25,
        "id": "2e7594ba"
      },
      "source": [
        "请注意，*维度*（dimension）这个词在不同上下文时往往会有不同的含义，这经常会使人感到困惑。\n",
        "为了清楚起见，我们在此明确一下：\n",
        "***向量*或*轴*的维度被用来表示*向量*或*轴*的长度，即向量或轴的元素数量。\n",
        "然而，张量的维度用来表示张量具有的轴数。\n",
        "在这个意义上，张量的某个轴的维数就是这个轴的长度。**\n",
        "\n",
        "## 矩阵\n",
        "\n",
        "正如向量将标量从零阶推广到一阶，矩阵将向量从一阶推广到二阶。\n",
        "矩阵，我们通常用粗体、大写字母来表示\n",
        "（例如，$\\mathbf{X}$、$\\mathbf{Y}$和$\\mathbf{Z}$），\n",
        "在代码中表示为具有两个轴的张量。\n",
        "\n",
        "数学表示法使用$\\mathbf{A} \\in \\mathbb{R}^{m \\times n}$\n",
        "来表示矩阵$\\mathbf{A}$，其由$m$行和$n$列的实值标量组成。\n",
        "我们可以将任意矩阵$\\mathbf{A} \\in \\mathbb{R}^{m \\times n}$视为一个表格，\n",
        "其中每个元素$a_{ij}$属于第$i$行第$j$列：\n",
        "\n",
        "$$\\mathbf{A}=\\begin{bmatrix} a_{11} & a_{12} & \\cdots & a_{1n} \\\\ a_{21} & a_{22} & \\cdots & a_{2n} \\\\ \\vdots & \\vdots & \\ddots & \\vdots \\\\ a_{m1} & a_{m2} & \\cdots & a_{mn} \\\\ \\end{bmatrix}.$$\n",
        ":eqlabel:`eq_matrix_def`\n",
        "\n",
        "对于任意$\\mathbf{A} \\in \\mathbb{R}^{m \\times n}$，\n",
        "$\\mathbf{A}$的形状是（$m$,$n$）或$m \\times n$。\n",
        "当矩阵具有相同数量的行和列时，其形状将变为正方形；\n",
        "因此，它被称为*方阵*（square matrix）。\n",
        "\n",
        "当调用函数来实例化张量时，\n",
        "我们可以[**通过指定两个分量$m$和$n$来创建一个形状为$m \\times n$的矩阵**]。\n"
      ]
    },
    {
      "cell_type": "code",
      "execution_count": 21,
      "id": "f14aa206",
      "metadata": {
        "execution": {
          "iopub.execute_input": "2023-08-18T07:17:40.115036Z",
          "iopub.status.busy": "2023-08-18T07:17:40.114384Z",
          "iopub.status.idle": "2023-08-18T07:17:40.123513Z",
          "shell.execute_reply": "2023-08-18T07:17:40.122374Z"
        },
        "origin_pos": 26,
        "tab": [
          "mxnet"
        ],
        "id": "f14aa206",
        "outputId": "8fe81b5c-1637-49c0-a44c-a2b421c3fd16",
        "colab": {
          "base_uri": "https://localhost:8080/"
        }
      },
      "outputs": [
        {
          "output_type": "execute_result",
          "data": {
            "text/plain": [
              "tensor([[ 0,  1,  2,  3],\n",
              "        [ 4,  5,  6,  7],\n",
              "        [ 8,  9, 10, 11],\n",
              "        [12, 13, 14, 15],\n",
              "        [16, 17, 18, 19]])"
            ]
          },
          "metadata": {},
          "execution_count": 21
        }
      ],
      "source": [
        "A = torch.arange(20).reshape(5, 4)\n",
        "A"
      ]
    },
    {
      "cell_type": "markdown",
      "id": "131de6c9",
      "metadata": {
        "origin_pos": 30,
        "id": "131de6c9"
      },
      "source": [
        "我们可以通过行索引（$i$）和列索引（$j$）来访问矩阵中的标量元素$a_{ij}$，\n",
        "例如$[\\mathbf{A}]_{ij}$。\n",
        "如果没有给出矩阵$\\mathbf{A}$的标量元素，如在 :eqref:`eq_matrix_def`那样，\n",
        "我们可以简单地使用矩阵$\\mathbf{A}$的小写字母索引下标$a_{ij}$\n",
        "来引用$[\\mathbf{A}]_{ij}$。\n",
        "为了表示起来简单，只有在必要时才会将逗号插入到单独的索引中，\n",
        "例如$a_{2,3j}$和$[\\mathbf{A}]_{2i-1,3}$。\n",
        "\n",
        "当我们交换矩阵的行和列时，结果称为矩阵的*转置*（transpose）。\n",
        "通常用$\\mathbf{a}^\\top$来表示矩阵的转置，如果$\\mathbf{B}=\\mathbf{A}^\\top$，\n",
        "则对于任意$i$和$j$，都有$b_{ij}=a_{ji}$。\n",
        "因此，在 :eqref:`eq_matrix_def`中的转置是一个形状为$n \\times m$的矩阵：\n",
        "\n",
        "$$\n",
        "\\mathbf{A}^\\top =\n",
        "\\begin{bmatrix}\n",
        "    a_{11} & a_{21} & \\dots  & a_{m1} \\\\\n",
        "    a_{12} & a_{22} & \\dots  & a_{m2} \\\\\n",
        "    \\vdots & \\vdots & \\ddots  & \\vdots \\\\\n",
        "    a_{1n} & a_{2n} & \\dots  & a_{mn}\n",
        "\\end{bmatrix}.\n",
        "$$\n",
        "\n",
        "现在在代码中访问(**矩阵的转置**)。\n"
      ]
    },
    {
      "cell_type": "code",
      "execution_count": 22,
      "id": "3117d645",
      "metadata": {
        "execution": {
          "iopub.execute_input": "2023-08-18T07:17:40.127015Z",
          "iopub.status.busy": "2023-08-18T07:17:40.126714Z",
          "iopub.status.idle": "2023-08-18T07:17:40.140716Z",
          "shell.execute_reply": "2023-08-18T07:17:40.139708Z"
        },
        "origin_pos": 31,
        "tab": [
          "mxnet"
        ],
        "id": "3117d645",
        "outputId": "7c5b9310-f24c-49a2-a226-08ec14b5a1f1",
        "colab": {
          "base_uri": "https://localhost:8080/"
        }
      },
      "outputs": [
        {
          "output_type": "execute_result",
          "data": {
            "text/plain": [
              "tensor([[ 0,  4,  8, 12, 16],\n",
              "        [ 1,  5,  9, 13, 17],\n",
              "        [ 2,  6, 10, 14, 18],\n",
              "        [ 3,  7, 11, 15, 19]])"
            ]
          },
          "metadata": {},
          "execution_count": 22
        }
      ],
      "source": [
        "A.T"
      ]
    },
    {
      "cell_type": "markdown",
      "id": "d4f3b8c8",
      "metadata": {
        "origin_pos": 35,
        "id": "d4f3b8c8"
      },
      "source": [
        "作为方阵的一种特殊类型，[***对称矩阵*（symmetric matrix）$\\mathbf{A}$等于其转置：$\\mathbf{A} = \\mathbf{A}^\\top$**]。\n",
        "这里定义一个对称矩阵$\\mathbf{B}$：\n"
      ]
    },
    {
      "cell_type": "code",
      "execution_count": 5,
      "id": "687c5200",
      "metadata": {
        "execution": {
          "iopub.execute_input": "2023-08-18T07:17:40.145298Z",
          "iopub.status.busy": "2023-08-18T07:17:40.144571Z",
          "iopub.status.idle": "2023-08-18T07:17:40.151477Z",
          "shell.execute_reply": "2023-08-18T07:17:40.150538Z"
        },
        "origin_pos": 36,
        "tab": [
          "mxnet"
        ],
        "id": "687c5200",
        "outputId": "c4e6dfe6-9450-4f48-e372-dd334900bf19",
        "colab": {
          "base_uri": "https://localhost:8080/"
        }
      },
      "outputs": [
        {
          "output_type": "execute_result",
          "data": {
            "text/plain": [
              "tensor([[1, 2, 3],\n",
              "        [2, 0, 4],\n",
              "        [3, 4, 5]])"
            ]
          },
          "metadata": {},
          "execution_count": 5
        }
      ],
      "source": [
        "B = torch.tensor([[1, 2, 3], [2, 0, 4], [3, 4, 5]])\n",
        "B"
      ]
    },
    {
      "cell_type": "markdown",
      "id": "c4cea146",
      "metadata": {
        "origin_pos": 40,
        "id": "c4cea146"
      },
      "source": [
        "现在我们将`B`与它的转置进行比较。\n"
      ]
    },
    {
      "cell_type": "code",
      "execution_count": 6,
      "id": "4351674f",
      "metadata": {
        "execution": {
          "iopub.execute_input": "2023-08-18T07:17:40.155318Z",
          "iopub.status.busy": "2023-08-18T07:17:40.154613Z",
          "iopub.status.idle": "2023-08-18T07:17:40.161616Z",
          "shell.execute_reply": "2023-08-18T07:17:40.160380Z"
        },
        "origin_pos": 41,
        "tab": [
          "mxnet"
        ],
        "id": "4351674f",
        "outputId": "4ae0457d-0dcb-41a1-87f9-cbce9a7354db",
        "colab": {
          "base_uri": "https://localhost:8080/"
        }
      },
      "outputs": [
        {
          "output_type": "execute_result",
          "data": {
            "text/plain": [
              "tensor([[True, True, True],\n",
              "        [True, True, True],\n",
              "        [True, True, True]])"
            ]
          },
          "metadata": {},
          "execution_count": 6
        }
      ],
      "source": [
        "B == B.T"
      ]
    },
    {
      "cell_type": "markdown",
      "id": "3250fd7d",
      "metadata": {
        "origin_pos": 45,
        "id": "3250fd7d"
      },
      "source": [
        "矩阵是有用的数据结构：它们允许我们组织具有不同模式的数据。\n",
        "例如，我们矩阵中的行可能对应于不同的房屋（数据样本），而列可能对应于不同的属性。\n",
        "曾经使用过电子表格软件或已阅读过 :numref:`sec_pandas`的人，应该对此很熟悉。\n",
        "因此，尽管单个向量的默认方向是列向量，但在表示表格数据集的矩阵中，\n",
        "将每个数据样本作为矩阵中的行向量更为常见。\n",
        "后面的章节将讲到这点，这种约定将支持常见的深度学习实践。\n",
        "例如，沿着张量的最外轴，我们可以访问或遍历小批量的数据样本。\n",
        "\n",
        "\n",
        "## 张量\n",
        "\n",
        "[**就像向量是标量的推广，矩阵是向量的推广一样，我们可以构建具有更多轴的数据结构**]。\n",
        "张量（本小节中的“张量”指代数对象）是描述具有任意数量轴的$n$维数组的通用方法。\n",
        "例如，向量是一阶张量，矩阵是二阶张量。\n",
        "张量用特殊字体的大写字母表示（例如，$\\mathsf{X}$、$\\mathsf{Y}$和$\\mathsf{Z}$），\n",
        "它们的索引机制（例如$x_{ijk}$和$[\\mathsf{X}]_{1,2i-1,3}$）与矩阵类似。\n",
        "\n",
        "当我们开始处理图像时，张量将变得更加重要，图像以$n$维数组形式出现，\n",
        "其中3个轴对应于高度、宽度，以及一个*通道*（channel）轴，\n",
        "用于表示颜色通道（红色、绿色和蓝色）。\n",
        "现在先将高阶张量暂放一边，而是专注学习其基础知识。\n"
      ]
    },
    {
      "cell_type": "code",
      "execution_count": 7,
      "id": "5200dd01",
      "metadata": {
        "execution": {
          "iopub.execute_input": "2023-08-18T07:17:40.165683Z",
          "iopub.status.busy": "2023-08-18T07:17:40.165058Z",
          "iopub.status.idle": "2023-08-18T07:17:40.171720Z",
          "shell.execute_reply": "2023-08-18T07:17:40.170860Z"
        },
        "origin_pos": 46,
        "tab": [
          "mxnet"
        ],
        "id": "5200dd01",
        "outputId": "ee99c0a7-23c3-4be3-8adc-b1b472241507",
        "colab": {
          "base_uri": "https://localhost:8080/"
        }
      },
      "outputs": [
        {
          "output_type": "execute_result",
          "data": {
            "text/plain": [
              "tensor([[[ 0,  1,  2,  3],\n",
              "         [ 4,  5,  6,  7],\n",
              "         [ 8,  9, 10, 11]],\n",
              "\n",
              "        [[12, 13, 14, 15],\n",
              "         [16, 17, 18, 19],\n",
              "         [20, 21, 22, 23]]])"
            ]
          },
          "metadata": {},
          "execution_count": 7
        }
      ],
      "source": [
        "X = torch.arange(24).reshape(2, 3, 4)\n",
        "X"
      ]
    },
    {
      "cell_type": "markdown",
      "id": "ea5bf3a3",
      "metadata": {
        "origin_pos": 50,
        "id": "ea5bf3a3"
      },
      "source": [
        "## 张量算法的基本性质\n",
        "\n",
        "标量、向量、矩阵和任意数量轴的张量（本小节中的“张量”指代数对象）有一些实用的属性。\n",
        "例如，从按元素操作的定义中可以注意到，任何按元素的一元运算都不会改变其操作数的形状。\n",
        "同样，[**给定具有相同形状的任意两个张量，任何按元素二元运算的结果都将是相同形状的张量**]。\n",
        "例如，将两个相同形状的矩阵相加，会在这两个矩阵上执行元素加法。\n"
      ]
    },
    {
      "cell_type": "code",
      "execution_count": 21,
      "id": "518c43d7",
      "metadata": {
        "execution": {
          "iopub.execute_input": "2023-08-18T07:17:40.175983Z",
          "iopub.status.busy": "2023-08-18T07:17:40.175348Z",
          "iopub.status.idle": "2023-08-18T07:17:40.183480Z",
          "shell.execute_reply": "2023-08-18T07:17:40.182724Z"
        },
        "origin_pos": 51,
        "tab": [
          "mxnet"
        ],
        "id": "518c43d7",
        "outputId": "4c211a3f-81ca-4b05-fb67-16f75c8a75eb",
        "colab": {
          "base_uri": "https://localhost:8080/"
        }
      },
      "outputs": [
        {
          "output_type": "execute_result",
          "data": {
            "text/plain": [
              "(tensor([[ 0.,  1.,  2.,  3.],\n",
              "         [ 4.,  5.,  6.,  7.],\n",
              "         [ 8.,  9., 10., 11.],\n",
              "         [12., 13., 14., 15.],\n",
              "         [16., 17., 18., 19.]]),\n",
              " tensor([[ 0.,  2.,  4.,  6.],\n",
              "         [ 8., 10., 12., 14.],\n",
              "         [16., 18., 20., 22.],\n",
              "         [24., 26., 28., 30.],\n",
              "         [32., 34., 36., 38.]]))"
            ]
          },
          "metadata": {},
          "execution_count": 21
        }
      ],
      "source": [
        "A = torch.arange(20,).reshape(5, 4)\n",
        "'''\n",
        "A=B实际上创建了一个指向B的引用\n",
        "'''\n",
        "B = A.clone()  # 通过分配新内存，将A的一个副本分配给B\n",
        "A, A + B"
      ]
    },
    {
      "cell_type": "markdown",
      "id": "da32847b",
      "metadata": {
        "origin_pos": 55,
        "id": "da32847b"
      },
      "source": [
        "具体而言，[**两个矩阵的按元素乘法称为*Hadamard积*（Hadamard product）（数学符号$\\odot$）**]。\n",
        "对于矩阵$\\mathbf{B} \\in \\mathbb{R}^{m \\times n}$，\n",
        "其中第$i$行和第$j$列的元素是$b_{ij}$。\n",
        "矩阵$\\mathbf{A}$（在 :eqref:`eq_matrix_def`中定义）和$\\mathbf{B}$的Hadamard积为：\n",
        "$$\n",
        "\\mathbf{A} \\odot \\mathbf{B} =\n",
        "\\begin{bmatrix}\n",
        "    a_{11}  b_{11} & a_{12}  b_{12} & \\dots  & a_{1n}  b_{1n} \\\\\n",
        "    a_{21}  b_{21} & a_{22}  b_{22} & \\dots  & a_{2n}  b_{2n} \\\\\n",
        "    \\vdots & \\vdots & \\ddots & \\vdots \\\\\n",
        "    a_{m1}  b_{m1} & a_{m2}  b_{m2} & \\dots  & a_{mn}  b_{mn}\n",
        "\\end{bmatrix}.\n",
        "$$\n"
      ]
    },
    {
      "cell_type": "code",
      "execution_count": 10,
      "id": "a809d0fd",
      "metadata": {
        "execution": {
          "iopub.execute_input": "2023-08-18T07:17:40.187453Z",
          "iopub.status.busy": "2023-08-18T07:17:40.186779Z",
          "iopub.status.idle": "2023-08-18T07:17:40.193807Z",
          "shell.execute_reply": "2023-08-18T07:17:40.192716Z"
        },
        "origin_pos": 56,
        "tab": [
          "mxnet"
        ],
        "id": "a809d0fd",
        "outputId": "9fcf1699-ce78-407e-a26e-b9153a2eb96d",
        "colab": {
          "base_uri": "https://localhost:8080/"
        }
      },
      "outputs": [
        {
          "output_type": "execute_result",
          "data": {
            "text/plain": [
              "tensor([[  0,   1,   4,   9],\n",
              "        [ 16,  25,  36,  49],\n",
              "        [ 64,  81, 100, 121],\n",
              "        [144, 169, 196, 225],\n",
              "        [256, 289, 324, 361]])"
            ]
          },
          "metadata": {},
          "execution_count": 10
        }
      ],
      "source": [
        "A * B"
      ]
    },
    {
      "cell_type": "markdown",
      "id": "92cf3c18",
      "metadata": {
        "origin_pos": 60,
        "id": "92cf3c18"
      },
      "source": [
        "将张量乘以或加上一个标量不会改变张量的形状，其中张量的每个元素都将与标量相加或相乘。\n"
      ]
    },
    {
      "cell_type": "code",
      "execution_count": 11,
      "id": "f854911b",
      "metadata": {
        "execution": {
          "iopub.execute_input": "2023-08-18T07:17:40.197014Z",
          "iopub.status.busy": "2023-08-18T07:17:40.196743Z",
          "iopub.status.idle": "2023-08-18T07:17:40.204389Z",
          "shell.execute_reply": "2023-08-18T07:17:40.203509Z"
        },
        "origin_pos": 61,
        "tab": [
          "mxnet"
        ],
        "id": "f854911b",
        "outputId": "e015039f-40f7-4060-947e-9945b30598fa",
        "colab": {
          "base_uri": "https://localhost:8080/"
        }
      },
      "outputs": [
        {
          "output_type": "execute_result",
          "data": {
            "text/plain": [
              "(tensor([[[ 2,  3,  4,  5],\n",
              "          [ 6,  7,  8,  9],\n",
              "          [10, 11, 12, 13]],\n",
              " \n",
              "         [[14, 15, 16, 17],\n",
              "          [18, 19, 20, 21],\n",
              "          [22, 23, 24, 25]]]),\n",
              " torch.Size([2, 3, 4]))"
            ]
          },
          "metadata": {},
          "execution_count": 11
        }
      ],
      "source": [
        "a = 2\n",
        "X = torch.arange(24).reshape(2, 3, 4)\n",
        "a + X, (a * X).shape"
      ]
    },
    {
      "cell_type": "markdown",
      "id": "917552ca",
      "metadata": {
        "origin_pos": 65,
        "id": "917552ca"
      },
      "source": [
        "## 降维\n",
        "\n",
        ":label:`subseq_lin-alg-reduction`\n",
        "\n",
        "我们可以对任意张量进行的一个有用的操作是[**计算其元素的和**]。\n",
        "数学表示法使用$\\sum$符号表示求和。\n",
        "为了表示长度为$d$的向量中元素的总和，可以记为$\\sum_{i=1}^dx_i$。\n",
        "在代码中可以调用计算求和的函数：\n"
      ]
    },
    {
      "cell_type": "code",
      "execution_count": 47,
      "id": "4afc5eb3",
      "metadata": {
        "execution": {
          "iopub.execute_input": "2023-08-18T07:17:40.208251Z",
          "iopub.status.busy": "2023-08-18T07:17:40.207320Z",
          "iopub.status.idle": "2023-08-18T07:17:40.214289Z",
          "shell.execute_reply": "2023-08-18T07:17:40.213459Z"
        },
        "origin_pos": 66,
        "tab": [
          "mxnet"
        ],
        "id": "4afc5eb3",
        "outputId": "9992a7c6-c858-4c8c-849b-33fc593b8bee",
        "colab": {
          "base_uri": "https://localhost:8080/"
        }
      },
      "outputs": [
        {
          "output_type": "execute_result",
          "data": {
            "text/plain": [
              "(tensor([0., 1., 2., 3.], dtype=torch.float64),\n",
              " tensor(6., dtype=torch.float64))"
            ]
          },
          "metadata": {},
          "execution_count": 47
        }
      ],
      "source": [
        "x = torch.arange(4,dtype=float)\n",
        "\n",
        "x, x.sum()"
      ]
    },
    {
      "cell_type": "markdown",
      "id": "bc296d0b",
      "metadata": {
        "origin_pos": 70,
        "id": "bc296d0b"
      },
      "source": [
        "我们可以(**表示任意形状张量的元素和**)。\n",
        "例如，矩阵$\\mathbf{A}$中元素的和可以记为$\\sum_{i=1}^{m} \\sum_{j=1}^{n} a_{ij}$。\n"
      ]
    },
    {
      "cell_type": "code",
      "execution_count": 13,
      "id": "d52317a1",
      "metadata": {
        "execution": {
          "iopub.execute_input": "2023-08-18T07:17:40.217402Z",
          "iopub.status.busy": "2023-08-18T07:17:40.217134Z",
          "iopub.status.idle": "2023-08-18T07:17:40.223113Z",
          "shell.execute_reply": "2023-08-18T07:17:40.222302Z"
        },
        "origin_pos": 71,
        "tab": [
          "mxnet"
        ],
        "id": "d52317a1",
        "outputId": "52a2345f-9e4d-4a71-9a91-00bea1a19f11",
        "colab": {
          "base_uri": "https://localhost:8080/"
        }
      },
      "outputs": [
        {
          "output_type": "execute_result",
          "data": {
            "text/plain": [
              "(tensor([[ 0,  1,  2,  3],\n",
              "         [ 4,  5,  6,  7],\n",
              "         [ 8,  9, 10, 11],\n",
              "         [12, 13, 14, 15],\n",
              "         [16, 17, 18, 19]]),\n",
              " torch.Size([5, 4]),\n",
              " tensor(190))"
            ]
          },
          "metadata": {},
          "execution_count": 13
        }
      ],
      "source": [
        "A,A.shape, A.sum()"
      ]
    },
    {
      "cell_type": "markdown",
      "id": "cabda116",
      "metadata": {
        "origin_pos": 75,
        "id": "cabda116"
      },
      "source": [
        "默认情况下，调用求和函数会沿所有的轴降低张量的维度，使它变为一个标量。\n",
        "我们还可以[**指定张量沿哪一个轴来通过求和降低维度**]。\n",
        "以矩阵为例，为了通过求和所有行的元素来降维（轴0），可以在调用函数时指定`axis=0`。\n",
        "由于输入矩阵沿0轴降维以生成输出向量，因此输入轴0的维数在输出形状中消失。\n"
      ]
    },
    {
      "cell_type": "code",
      "execution_count": 16,
      "id": "fb13b1c2",
      "metadata": {
        "execution": {
          "iopub.execute_input": "2023-08-18T07:17:40.226297Z",
          "iopub.status.busy": "2023-08-18T07:17:40.226031Z",
          "iopub.status.idle": "2023-08-18T07:17:40.231949Z",
          "shell.execute_reply": "2023-08-18T07:17:40.231132Z"
        },
        "origin_pos": 76,
        "tab": [
          "mxnet"
        ],
        "id": "fb13b1c2",
        "outputId": "cf2035b9-f442-4bc3-c7c3-60ef84c94889",
        "colab": {
          "base_uri": "https://localhost:8080/"
        }
      },
      "outputs": [
        {
          "output_type": "execute_result",
          "data": {
            "text/plain": [
              "(tensor([40, 45, 50, 55]), torch.Size([4]))"
            ]
          },
          "metadata": {},
          "execution_count": 16
        }
      ],
      "source": [
        "A_sum_axis0 = A.sum(axis=0)\n",
        "A_sum_axis0, A_sum_axis0.shape"
      ]
    },
    {
      "cell_type": "markdown",
      "id": "fdc98285",
      "metadata": {
        "origin_pos": 80,
        "id": "fdc98285"
      },
      "source": [
        "指定`axis=1`将通过汇总所有列的元素降维（轴1）。因此，输入轴1的维数在输出形状中消失。\n"
      ]
    },
    {
      "cell_type": "code",
      "execution_count": 17,
      "id": "512515bb",
      "metadata": {
        "execution": {
          "iopub.execute_input": "2023-08-18T07:17:40.234948Z",
          "iopub.status.busy": "2023-08-18T07:17:40.234678Z",
          "iopub.status.idle": "2023-08-18T07:17:40.241253Z",
          "shell.execute_reply": "2023-08-18T07:17:40.240075Z"
        },
        "origin_pos": 81,
        "tab": [
          "mxnet"
        ],
        "id": "512515bb",
        "outputId": "1b5cc94d-aa29-4a98-ef97-bb354f7d623e",
        "colab": {
          "base_uri": "https://localhost:8080/"
        }
      },
      "outputs": [
        {
          "output_type": "execute_result",
          "data": {
            "text/plain": [
              "(tensor([ 6, 22, 38, 54, 70]), torch.Size([5]))"
            ]
          },
          "metadata": {},
          "execution_count": 17
        }
      ],
      "source": [
        "A_sum_axis1 = A.sum(axis=1)\n",
        "A_sum_axis1, A_sum_axis1.shape"
      ]
    },
    {
      "cell_type": "markdown",
      "id": "e81bc3c9",
      "metadata": {
        "origin_pos": 85,
        "id": "e81bc3c9"
      },
      "source": [
        "沿着行和列对矩阵求和，等价于对矩阵的所有元素进行求和。\n"
      ]
    },
    {
      "cell_type": "code",
      "execution_count": 18,
      "id": "60f935e1",
      "metadata": {
        "execution": {
          "iopub.execute_input": "2023-08-18T07:17:40.244791Z",
          "iopub.status.busy": "2023-08-18T07:17:40.244145Z",
          "iopub.status.idle": "2023-08-18T07:17:40.251237Z",
          "shell.execute_reply": "2023-08-18T07:17:40.250190Z"
        },
        "origin_pos": 86,
        "tab": [
          "mxnet"
        ],
        "id": "60f935e1",
        "outputId": "6542bffb-b044-4ff4-b34c-bb4b988c0a42",
        "colab": {
          "base_uri": "https://localhost:8080/"
        }
      },
      "outputs": [
        {
          "output_type": "execute_result",
          "data": {
            "text/plain": [
              "tensor(190)"
            ]
          },
          "metadata": {},
          "execution_count": 18
        }
      ],
      "source": [
        "A.sum(axis=[0, 1])  # 结果和A.sum()相同"
      ]
    },
    {
      "cell_type": "markdown",
      "id": "cb59bd52",
      "metadata": {
        "origin_pos": 90,
        "id": "cb59bd52"
      },
      "source": [
        "[**一个与求和相关的量是*平均值*（mean或average）**]。\n",
        "我们通过将总和除以元素总数来计算平均值。\n",
        "在代码中，我们可以调用函数来计算任意形状张量的平均值。\n"
      ]
    },
    {
      "cell_type": "code",
      "execution_count": 32,
      "id": "42685b8c",
      "metadata": {
        "execution": {
          "iopub.execute_input": "2023-08-18T07:17:40.255124Z",
          "iopub.status.busy": "2023-08-18T07:17:40.254764Z",
          "iopub.status.idle": "2023-08-18T07:17:40.261775Z",
          "shell.execute_reply": "2023-08-18T07:17:40.260953Z"
        },
        "origin_pos": 91,
        "tab": [
          "mxnet"
        ],
        "id": "42685b8c",
        "outputId": "ee72bd67-c3e4-4266-c54d-9389efc78961",
        "colab": {
          "base_uri": "https://localhost:8080/"
        }
      },
      "outputs": [
        {
          "output_type": "execute_result",
          "data": {
            "text/plain": [
              "(tensor(9.5000), tensor(9.5000))"
            ]
          },
          "metadata": {},
          "execution_count": 32
        }
      ],
      "source": [
        "A.mean(), A.sum() / A.numel() #元素总和除以元素总数"
      ]
    },
    {
      "cell_type": "markdown",
      "id": "b920bb36",
      "metadata": {
        "origin_pos": 95,
        "id": "b920bb36"
      },
      "source": [
        "同样，计算平均值的函数也可以沿指定轴降低张量的维度。\n"
      ]
    },
    {
      "cell_type": "code",
      "execution_count": 35,
      "id": "bae6f566",
      "metadata": {
        "execution": {
          "iopub.execute_input": "2023-08-18T07:17:40.265043Z",
          "iopub.status.busy": "2023-08-18T07:17:40.264763Z",
          "iopub.status.idle": "2023-08-18T07:17:40.271511Z",
          "shell.execute_reply": "2023-08-18T07:17:40.270731Z"
        },
        "origin_pos": 96,
        "tab": [
          "mxnet"
        ],
        "id": "bae6f566",
        "outputId": "b52832b3-cc88-4b46-dde1-495d484eb76a",
        "colab": {
          "base_uri": "https://localhost:8080/"
        }
      },
      "outputs": [
        {
          "output_type": "execute_result",
          "data": {
            "text/plain": [
              "(tensor([[ 0.,  1.,  2.,  3.],\n",
              "         [ 4.,  5.,  6.,  7.],\n",
              "         [ 8.,  9., 10., 11.],\n",
              "         [12., 13., 14., 15.],\n",
              "         [16., 17., 18., 19.]]),\n",
              " tensor([ 8.,  9., 10., 11.]),\n",
              " tensor([ 8.,  9., 10., 11.]))"
            ]
          },
          "metadata": {},
          "execution_count": 35
        }
      ],
      "source": [
        "A,A.mean(axis=0), A.sum(axis=0) / A.shape[0]"
      ]
    },
    {
      "cell_type": "markdown",
      "source": [],
      "metadata": {
        "id": "JYmJL3TMifJn"
      },
      "id": "JYmJL3TMifJn"
    },
    {
      "cell_type": "markdown",
      "id": "8f352ef3",
      "metadata": {
        "origin_pos": 100,
        "id": "8f352ef3"
      },
      "source": [
        "### 非降维求和\n",
        "\n",
        ":label:`subseq_lin-alg-non-reduction`\n",
        "\n",
        "但是，有时在调用函数来[**计算总和或均值时保持轴数不变**]会很有用。\n"
      ]
    },
    {
      "cell_type": "code",
      "execution_count": 36,
      "id": "976185d4",
      "metadata": {
        "execution": {
          "iopub.execute_input": "2023-08-18T07:17:40.274662Z",
          "iopub.status.busy": "2023-08-18T07:17:40.274392Z",
          "iopub.status.idle": "2023-08-18T07:17:40.280355Z",
          "shell.execute_reply": "2023-08-18T07:17:40.279546Z"
        },
        "origin_pos": 101,
        "tab": [
          "mxnet"
        ],
        "id": "976185d4",
        "outputId": "547ea1fa-8efe-4266-eb48-12ebabb09656",
        "colab": {
          "base_uri": "https://localhost:8080/"
        }
      },
      "outputs": [
        {
          "output_type": "execute_result",
          "data": {
            "text/plain": [
              "(tensor([[ 6.],\n",
              "         [22.],\n",
              "         [38.],\n",
              "         [54.],\n",
              "         [70.]]),\n",
              " tensor([ 6., 22., 38., 54., 70.]))"
            ]
          },
          "metadata": {},
          "execution_count": 36
        }
      ],
      "source": [
        "sum_A = A.sum(axis=1, keepdims=True)\n",
        "sum_B = B.sum(axis=1)\n",
        "sum_A , sum_B"
      ]
    },
    {
      "cell_type": "markdown",
      "id": "df851ed3",
      "metadata": {
        "origin_pos": 105,
        "id": "df851ed3"
      },
      "source": [
        "例如，由于`sum_A`在对每行进行求和后仍保持两个轴，我们可以(**通过广播将`A`除以`sum_A`**)。\n"
      ]
    },
    {
      "cell_type": "code",
      "execution_count": 38,
      "id": "a283af7e",
      "metadata": {
        "execution": {
          "iopub.execute_input": "2023-08-18T07:17:40.283477Z",
          "iopub.status.busy": "2023-08-18T07:17:40.283154Z",
          "iopub.status.idle": "2023-08-18T07:17:40.289187Z",
          "shell.execute_reply": "2023-08-18T07:17:40.288401Z"
        },
        "origin_pos": 106,
        "tab": [
          "mxnet"
        ],
        "id": "a283af7e",
        "outputId": "98f61cae-4b36-4bbe-a7e9-7536be3a0ada",
        "colab": {
          "base_uri": "https://localhost:8080/"
        }
      },
      "outputs": [
        {
          "output_type": "execute_result",
          "data": {
            "text/plain": [
              "(tensor([[ 0.,  1.,  2.,  3.],\n",
              "         [ 4.,  5.,  6.,  7.],\n",
              "         [ 8.,  9., 10., 11.],\n",
              "         [12., 13., 14., 15.],\n",
              "         [16., 17., 18., 19.]]),\n",
              " tensor([[0.0000, 0.1667, 0.3333, 0.5000],\n",
              "         [0.1818, 0.2273, 0.2727, 0.3182],\n",
              "         [0.2105, 0.2368, 0.2632, 0.2895],\n",
              "         [0.2222, 0.2407, 0.2593, 0.2778],\n",
              "         [0.2286, 0.2429, 0.2571, 0.2714]]))"
            ]
          },
          "metadata": {},
          "execution_count": 38
        }
      ],
      "source": [
        "A , A / sum_A"
      ]
    },
    {
      "cell_type": "markdown",
      "id": "5dcea535",
      "metadata": {
        "origin_pos": 110,
        "id": "5dcea535"
      },
      "source": [
        "如果我们想沿[**某个轴计算`A`元素的累积总和**]，\n",
        "比如`axis=0`（按行计算），可以调用`cumsum`函数。\n",
        "此函数不会沿任何轴降低输入张量的维度。\n"
      ]
    },
    {
      "cell_type": "code",
      "execution_count": 39,
      "id": "c699f27c",
      "metadata": {
        "execution": {
          "iopub.execute_input": "2023-08-18T07:17:40.292318Z",
          "iopub.status.busy": "2023-08-18T07:17:40.292013Z",
          "iopub.status.idle": "2023-08-18T07:17:40.297992Z",
          "shell.execute_reply": "2023-08-18T07:17:40.297215Z"
        },
        "origin_pos": 111,
        "tab": [
          "mxnet"
        ],
        "id": "c699f27c",
        "outputId": "8d218e88-4f19-477c-8c92-125840509c3b",
        "colab": {
          "base_uri": "https://localhost:8080/"
        }
      },
      "outputs": [
        {
          "output_type": "execute_result",
          "data": {
            "text/plain": [
              "tensor([[ 0.,  1.,  2.,  3.],\n",
              "        [ 4.,  6.,  8., 10.],\n",
              "        [12., 15., 18., 21.],\n",
              "        [24., 28., 32., 36.],\n",
              "        [40., 45., 50., 55.]])"
            ]
          },
          "metadata": {},
          "execution_count": 39
        }
      ],
      "source": [
        "A.cumsum(axis=0)"
      ]
    },
    {
      "cell_type": "markdown",
      "id": "6dc094a4",
      "metadata": {
        "origin_pos": 115,
        "id": "6dc094a4"
      },
      "source": [
        "## 点积（Dot Product）\n",
        "\n",
        "我们已经学习了按元素操作、求和及平均值。\n",
        "另一个最基本的操作之一是点积。\n",
        "给定两个向量$\\mathbf{x},\\mathbf{y}\\in\\mathbb{R}^d$，\n",
        "它们的*点积*（dot product）$\\mathbf{x}^\\top\\mathbf{y}$\n",
        "（或$\\langle\\mathbf{x},\\mathbf{y}\\rangle$）\n",
        "是相同位置的按元素乘积的和：$\\mathbf{x}^\\top \\mathbf{y} = \\sum_{i=1}^{d} x_i y_i$。\n",
        "\n",
        "[~~点积是相同位置的按元素乘积的和~~]\n"
      ]
    },
    {
      "cell_type": "code",
      "execution_count": 49,
      "id": "eec4eafc",
      "metadata": {
        "execution": {
          "iopub.execute_input": "2023-08-18T07:17:40.301161Z",
          "iopub.status.busy": "2023-08-18T07:17:40.300893Z",
          "iopub.status.idle": "2023-08-18T07:17:40.307678Z",
          "shell.execute_reply": "2023-08-18T07:17:40.306896Z"
        },
        "origin_pos": 116,
        "tab": [
          "mxnet"
        ],
        "id": "eec4eafc",
        "outputId": "ee06cf12-6917-4982-b3de-8d23990e02fc",
        "colab": {
          "base_uri": "https://localhost:8080/"
        }
      },
      "outputs": [
        {
          "output_type": "execute_result",
          "data": {
            "text/plain": [
              "(tensor([0., 1., 2., 3.], dtype=torch.float64),\n",
              " tensor([1., 1., 1., 1.], dtype=torch.float64),\n",
              " tensor(6., dtype=torch.float64))"
            ]
          },
          "metadata": {},
          "execution_count": 49
        }
      ],
      "source": [
        "y = torch.ones(4,dtype=torch.float64)\n",
        "x, y, torch.dot(x, y)"
      ]
    },
    {
      "cell_type": "markdown",
      "id": "7e2dc60b",
      "metadata": {
        "origin_pos": 120,
        "id": "7e2dc60b"
      },
      "source": [
        "注意，(**我们可以通过执行按元素乘法，然后进行求和来表示两个向量的点积**)：\n"
      ]
    },
    {
      "cell_type": "code",
      "execution_count": 50,
      "id": "0206b0b8",
      "metadata": {
        "execution": {
          "iopub.execute_input": "2023-08-18T07:17:40.310935Z",
          "iopub.status.busy": "2023-08-18T07:17:40.310666Z",
          "iopub.status.idle": "2023-08-18T07:17:40.316683Z",
          "shell.execute_reply": "2023-08-18T07:17:40.315874Z"
        },
        "origin_pos": 121,
        "tab": [
          "mxnet"
        ],
        "id": "0206b0b8",
        "outputId": "127057ab-553f-46e7-83d6-9db5dc1b545d",
        "colab": {
          "base_uri": "https://localhost:8080/"
        }
      },
      "outputs": [
        {
          "output_type": "execute_result",
          "data": {
            "text/plain": [
              "tensor(6., dtype=torch.float64)"
            ]
          },
          "metadata": {},
          "execution_count": 50
        }
      ],
      "source": [
        "torch.sum(x * y)"
      ]
    },
    {
      "cell_type": "markdown",
      "id": "d82bfa59",
      "metadata": {
        "origin_pos": 125,
        "id": "d82bfa59"
      },
      "source": [
        "点积在很多场合都很有用。\n",
        "例如，给定一组由向量$\\mathbf{x} \\in \\mathbb{R}^d$表示的值，\n",
        "和一组由$\\mathbf{w} \\in \\mathbb{R}^d$表示的权重。\n",
        "$\\mathbf{x}$中的值根据权重$\\mathbf{w}$的加权和，\n",
        "可以表示为点积$\\mathbf{x}^\\top \\mathbf{w}$。\n",
        "**当权重为非负数且和为1（即$\\left(\\sum_{i=1}^{d}{w_i}=1\\right)$）时，\n",
        "点积表示*加权平均*（weighted average）。**\n",
        "**将两个向量规范化得到单位长度后，点积表示它们夹角的余弦。**\n",
        "本节后面的内容将正式介绍*长度*（length）的概念。\n",
        "\n",
        "## 矩阵-向量积\n",
        "\n",
        "现在我们知道如何计算点积，可以开始理解*矩阵-向量积*（matrix-vector product）。\n",
        "回顾分别在 :eqref:`eq_matrix_def`和 :eqref:`eq_vec_def`中定义的矩阵$\\mathbf{A} \\in \\mathbb{R}^{m \\times n}$和向量$\\mathbf{x} \\in \\mathbb{R}^n$。\n",
        "让我们将矩阵$\\mathbf{A}$用它的行向量表示：\n",
        "\n",
        "$$\\mathbf{A}=\n",
        "\\begin{bmatrix}\n",
        "\\mathbf{a}^\\top_{1} \\\\\n",
        "\\mathbf{a}^\\top_{2} \\\\\n",
        "\\vdots \\\\\n",
        "\\mathbf{a}^\\top_m \\\\\n",
        "\\end{bmatrix},$$\n",
        "\n",
        "其中每个$\\mathbf{a}^\\top_{i} \\in \\mathbb{R}^n$都是行向量，表示矩阵的第$i$行。\n",
        "[**矩阵向量积$\\mathbf{A}\\mathbf{x}$是一个长度为$m$的列向量，\n",
        "其第$i$个元素是点积$\\mathbf{a}^\\top_i \\mathbf{x}$**]：\n",
        "\n",
        "$$\n",
        "\\mathbf{A}\\mathbf{x}\n",
        "= \\begin{bmatrix}\n",
        "\\mathbf{a}^\\top_{1} \\\\\n",
        "\\mathbf{a}^\\top_{2} \\\\\n",
        "\\vdots \\\\\n",
        "\\mathbf{a}^\\top_m \\\\\n",
        "\\end{bmatrix}\\mathbf{x}\n",
        "= \\begin{bmatrix}\n",
        " \\mathbf{a}^\\top_{1} \\mathbf{x}  \\\\\n",
        " \\mathbf{a}^\\top_{2} \\mathbf{x} \\\\\n",
        "\\vdots\\\\\n",
        " \\mathbf{a}^\\top_{m} \\mathbf{x}\\\\\n",
        "\\end{bmatrix}.\n",
        "$$\n",
        "\n",
        "我们可以把一个矩阵$\\mathbf{A} \\in \\mathbb{R}^{m \\times n}$乘法看作一个从$\\mathbb{R}^{n}$到$\\mathbb{R}^{m}$向量的转换。\n",
        "这些转换是非常有用的，例如可以用方阵的乘法来表示旋转。\n",
        "后续章节将讲到，我们也可以使用矩阵-向量积来描述在给定前一层的值时，\n",
        "求解神经网络每一层所需的复杂计算。\n"
      ]
    },
    {
      "cell_type": "markdown",
      "id": "c6645901",
      "metadata": {
        "origin_pos": 126,
        "tab": [
          "mxnet"
        ],
        "id": "c6645901"
      },
      "source": [
        "在代码中使用张量表示矩阵-向量积，我们使用与点积相同的`dot`函数。\n",
        "当我们为矩阵`A`和向量`x`调用`np.dot(A,x)`时，会执行矩阵-向量积。\n",
        "注意，`A`的列维数（沿轴1的长度）必须与`x`的维数（其长度）相同。\n"
      ]
    },
    {
      "cell_type": "code",
      "source": [
        "import numpy as np"
      ],
      "metadata": {
        "id": "JwxV_h6cnEIQ"
      },
      "id": "JwxV_h6cnEIQ",
      "execution_count": 60,
      "outputs": []
    },
    {
      "cell_type": "code",
      "source": [
        "\n",
        "A = torch.arange(20.0).reshape(5,4)\n",
        "x = torch.arange(4)\n",
        "A,x"
      ],
      "metadata": {
        "id": "EA7AdMGunPxp",
        "outputId": "4966837e-d2c7-4b3e-ebfe-a266e154bbcc",
        "colab": {
          "base_uri": "https://localhost:8080/"
        }
      },
      "id": "EA7AdMGunPxp",
      "execution_count": 101,
      "outputs": [
        {
          "output_type": "execute_result",
          "data": {
            "text/plain": [
              "(tensor([[ 0.,  1.,  2.,  3.],\n",
              "         [ 4.,  5.,  6.,  7.],\n",
              "         [ 8.,  9., 10., 11.],\n",
              "         [12., 13., 14., 15.],\n",
              "         [16., 17., 18., 19.]]),\n",
              " tensor([0, 1, 2, 3]))"
            ]
          },
          "metadata": {},
          "execution_count": 101
        }
      ]
    },
    {
      "cell_type": "code",
      "execution_count": 97,
      "id": "458bb976",
      "metadata": {
        "execution": {
          "iopub.execute_input": "2023-08-18T07:17:40.319909Z",
          "iopub.status.busy": "2023-08-18T07:17:40.319639Z",
          "iopub.status.idle": "2023-08-18T07:17:40.326179Z",
          "shell.execute_reply": "2023-08-18T07:17:40.325342Z"
        },
        "origin_pos": 129,
        "tab": [
          "mxnet"
        ],
        "id": "458bb976",
        "outputId": "a59f0209-0241-408e-818f-4f1661caa4b3",
        "colab": {
          "base_uri": "https://localhost:8080/"
        }
      },
      "outputs": [
        {
          "output_type": "stream",
          "name": "stderr",
          "text": [
            "/tmp/ipython-input-97-2954651887.py:1: DeprecationWarning: __array__ implementation doesn't accept a copy keyword, so passing copy=False failed. __array__ must implement 'dtype' and 'copy' keyword arguments.\n",
            "  A.shape, x.shape, np.dot(A, x), torch.mv(A,x) #matrix vector\n"
          ]
        },
        {
          "output_type": "execute_result",
          "data": {
            "text/plain": [
              "(torch.Size([5, 4]),\n",
              " torch.Size([4]),\n",
              " array([ 14,  38,  62,  86, 110]),\n",
              " tensor([ 14,  38,  62,  86, 110]))"
            ]
          },
          "metadata": {},
          "execution_count": 97
        }
      ],
      "source": [
        "A.shape, x.shape, np.dot(A, x), torch.mv(A,x) #matrix vector"
      ]
    },
    {
      "cell_type": "markdown",
      "id": "d4d4baea",
      "metadata": {
        "origin_pos": 133,
        "id": "d4d4baea"
      },
      "source": [
        "## 矩阵-矩阵乘法\n",
        "\n",
        "在掌握点积和矩阵-向量积的知识后，\n",
        "那么**矩阵-矩阵乘法**（matrix-matrix multiplication）应该很简单。\n",
        "\n",
        "假设有两个矩阵$\\mathbf{A} \\in \\mathbb{R}^{n \\times k}$和$\\mathbf{B} \\in \\mathbb{R}^{k \\times m}$：\n",
        "\n",
        "$$\\mathbf{A}=\\begin{bmatrix}\n",
        " a_{11} & a_{12} & \\cdots & a_{1k} \\\\\n",
        " a_{21} & a_{22} & \\cdots & a_{2k} \\\\\n",
        "\\vdots & \\vdots & \\ddots & \\vdots \\\\\n",
        " a_{n1} & a_{n2} & \\cdots & a_{nk} \\\\\n",
        "\\end{bmatrix},\\quad\n",
        "\\mathbf{B}=\\begin{bmatrix}\n",
        " b_{11} & b_{12} & \\cdots & b_{1m} \\\\\n",
        " b_{21} & b_{22} & \\cdots & b_{2m} \\\\\n",
        "\\vdots & \\vdots & \\ddots & \\vdots \\\\\n",
        " b_{k1} & b_{k2} & \\cdots & b_{km} \\\\\n",
        "\\end{bmatrix}.$$\n",
        "\n",
        "用行向量$\\mathbf{a}^\\top_{i} \\in \\mathbb{R}^k$表示矩阵$\\mathbf{A}$的第$i$行，并让列向量$\\mathbf{b}_{j} \\in \\mathbb{R}^k$作为矩阵$\\mathbf{B}$的第$j$列。要生成矩阵积$\\mathbf{C} = \\mathbf{A}\\mathbf{B}$，最简单的方法是考虑$\\mathbf{A}$的行向量和$\\mathbf{B}$的列向量:\n",
        "\n",
        "$$\\mathbf{A}=\n",
        "\\begin{bmatrix}\n",
        "\\mathbf{a}^\\top_{1} \\\\\n",
        "\\mathbf{a}^\\top_{2} \\\\\n",
        "\\vdots \\\\\n",
        "\\mathbf{a}^\\top_n \\\\\n",
        "\\end{bmatrix},\n",
        "\\quad \\mathbf{B}=\\begin{bmatrix}\n",
        " \\mathbf{b}_{1} & \\mathbf{b}_{2} & \\cdots & \\mathbf{b}_{m} \\\\\n",
        "\\end{bmatrix}.\n",
        "$$\n",
        "当我们简单地将每个元素$c_{ij}$计算为点积$\\mathbf{a}^\\top_i \\mathbf{b}_j$:\n",
        "\n",
        "$$\\mathbf{C} = \\mathbf{AB} = \\begin{bmatrix}\n",
        "\\mathbf{a}^\\top_{1} \\\\\n",
        "\\mathbf{a}^\\top_{2} \\\\\n",
        "\\vdots \\\\\n",
        "\\mathbf{a}^\\top_n \\\\\n",
        "\\end{bmatrix}\n",
        "\\begin{bmatrix}\n",
        " \\mathbf{b}_{1} & \\mathbf{b}_{2} & \\cdots & \\mathbf{b}_{m} \\\\\n",
        "\\end{bmatrix}\n",
        "= \\begin{bmatrix}\n",
        "\\mathbf{a}^\\top_{1} \\mathbf{b}_1 & \\mathbf{a}^\\top_{1}\\mathbf{b}_2& \\cdots & \\mathbf{a}^\\top_{1} \\mathbf{b}_m \\\\\n",
        " \\mathbf{a}^\\top_{2}\\mathbf{b}_1 & \\mathbf{a}^\\top_{2} \\mathbf{b}_2 & \\cdots & \\mathbf{a}^\\top_{2} \\mathbf{b}_m \\\\\n",
        " \\vdots & \\vdots & \\ddots &\\vdots\\\\\n",
        "\\mathbf{a}^\\top_{n} \\mathbf{b}_1 & \\mathbf{a}^\\top_{n}\\mathbf{b}_2& \\cdots& \\mathbf{a}^\\top_{n} \\mathbf{b}_m\n",
        "\\end{bmatrix}.\n",
        "$$\n",
        "\n",
        "[**我们可以将矩阵-矩阵乘法$\\mathbf{AB}$看作简单地执行$m$次矩阵-向量积，并将结果拼接在一起，形成一个$n \\times m$矩阵**]。\n",
        "在下面的代码中，我们在`A`和`B`上执行矩阵乘法。\n",
        "这里的`A`是一个5行4列的矩阵，`B`是一个4行3列的矩阵。\n",
        "两者相乘后，我们得到了一个5行3列的矩阵。\n"
      ]
    },
    {
      "cell_type": "code",
      "execution_count": 102,
      "id": "4c7bf13e",
      "metadata": {
        "execution": {
          "iopub.execute_input": "2023-08-18T07:17:40.329685Z",
          "iopub.status.busy": "2023-08-18T07:17:40.329320Z",
          "iopub.status.idle": "2023-08-18T07:17:40.336605Z",
          "shell.execute_reply": "2023-08-18T07:17:40.335613Z"
        },
        "origin_pos": 134,
        "tab": [
          "mxnet"
        ],
        "id": "4c7bf13e",
        "outputId": "279ca232-18ec-4d32-c774-d591e9dbe6d3",
        "colab": {
          "base_uri": "https://localhost:8080/"
        }
      },
      "outputs": [
        {
          "output_type": "stream",
          "name": "stderr",
          "text": [
            "/tmp/ipython-input-102-2126080435.py:2: DeprecationWarning: __array__ implementation doesn't accept a copy keyword, so passing copy=False failed. __array__ must implement 'dtype' and 'copy' keyword arguments.\n",
            "  np.dot(A, B), torch.mm(A, B)  #matrix mulplication\n"
          ]
        },
        {
          "output_type": "execute_result",
          "data": {
            "text/plain": [
              "(array([[ 6.,  6.,  6.],\n",
              "        [22., 22., 22.],\n",
              "        [38., 38., 38.],\n",
              "        [54., 54., 54.],\n",
              "        [70., 70., 70.]], dtype=float32),\n",
              " tensor([[ 6.,  6.,  6.],\n",
              "         [22., 22., 22.],\n",
              "         [38., 38., 38.],\n",
              "         [54., 54., 54.],\n",
              "         [70., 70., 70.]]))"
            ]
          },
          "metadata": {},
          "execution_count": 102
        }
      ],
      "source": [
        "B = torch.ones(4, 3)\n",
        "np.dot(A, B), torch.mm(A, B)  #matrix mulplication"
      ]
    },
    {
      "cell_type": "markdown",
      "id": "884cfd18",
      "metadata": {
        "origin_pos": 138,
        "id": "884cfd18"
      },
      "source": [
        "矩阵-矩阵乘法可以简单地称为**矩阵乘法**，不应与\"Hadamard积\"混淆。\n",
        "\n",
        "## 范数\n",
        ":label:`subsec_lin-algebra-norms`\n",
        "\n",
        "线性代数中最有用的一些运算符是*范数*（norm）。\n",
        "非正式地说，向量的*范数*是表示一个向量有多大。\n",
        "这里考虑的*大小*（size）概念不涉及维度，而是分量的大小。\n",
        "\n",
        "在线性代数中，向量范数是将向量映射到标量的函数$f$。\n",
        "给定任意向量$\\mathbf{x}$，向量范数要满足一些属性。\n",
        "第一个性质是：如果我们按常数因子$\\alpha$缩放向量的所有元素，\n",
        "其范数也会按相同常数因子的*绝对值*缩放：\n",
        "\n",
        "$$f(\\alpha \\mathbf{x}) = |\\alpha| f(\\mathbf{x}).$$\n",
        "\n",
        "第二个性质是熟悉的三角不等式:\n",
        "\n",
        "$$f(\\mathbf{x} + \\mathbf{y}) \\leq f(\\mathbf{x}) + f(\\mathbf{y}).$$\n",
        "\n",
        "第三个性质简单地说范数必须是非负的:\n",
        "\n",
        "$$f(\\mathbf{x}) \\geq 0.$$\n",
        "\n",
        "这是有道理的。因为在大多数情况下，任何东西的最小的*大小*是0。\n",
        "最后一个性质要求范数最小为0，当且仅当向量全由0组成。\n",
        "\n",
        "$$\\forall i, [\\mathbf{x}]_i = 0 \\Leftrightarrow f(\\mathbf{x})=0.$$\n",
        "\n",
        "范数听起来很像距离的度量。\n",
        "欧几里得距离和毕达哥拉斯定理中的非负性概念和三角不等式可能会给出一些启发。\n",
        "事实上，欧几里得距离是一个$L_2$范数：\n",
        "假设$n$维向量$\\mathbf{x}$中的元素是$x_1,\\ldots,x_n$，其[**$L_2$*范数*是向量元素平方和的平方根：**]\n",
        "\n",
        "(**$$\\|\\mathbf{x}\\|_2 = \\sqrt{\\sum_{i=1}^n x_i^2},$$**)\n",
        "\n",
        "其中，在$L_2$范数中常常省略下标$2$，也就是说$\\|\\mathbf{x}\\|$等同于$\\|\\mathbf{x}\\|_2$。\n",
        "在代码中，我们可以按如下方式计算向量的$L_2$范数。\n"
      ]
    },
    {
      "cell_type": "code",
      "execution_count": 106,
      "id": "17203cbd",
      "metadata": {
        "execution": {
          "iopub.execute_input": "2023-08-18T07:17:40.339608Z",
          "iopub.status.busy": "2023-08-18T07:17:40.339327Z",
          "iopub.status.idle": "2023-08-18T07:17:40.346024Z",
          "shell.execute_reply": "2023-08-18T07:17:40.345194Z"
        },
        "origin_pos": 139,
        "tab": [
          "mxnet"
        ],
        "id": "17203cbd",
        "outputId": "255c4a23-5a89-4908-884b-fdad4f5152ee",
        "colab": {
          "base_uri": "https://localhost:8080/"
        }
      },
      "outputs": [
        {
          "output_type": "execute_result",
          "data": {
            "text/plain": [
              "(np.float32(5.0), tensor(5.))"
            ]
          },
          "metadata": {},
          "execution_count": 106
        }
      ],
      "source": [
        "u = torch.tensor([3.0, -4.0])\n",
        "np.linalg.norm(u), torch.norm(u)"
      ]
    },
    {
      "cell_type": "markdown",
      "id": "665f1394",
      "metadata": {
        "origin_pos": 143,
        "id": "665f1394"
      },
      "source": [
        "深度学习中更经常地使用$L_2$范数的平方，也会经常遇到[**$L_1$范数，它表示为向量元素的绝对值之和：**]\n",
        "\n",
        "(**$$\\|\\mathbf{x}\\|_1 = \\sum_{i=1}^n \\left|x_i \\right|.$$**)\n",
        "\n",
        "与$L_2$范数相比，$L_1$范数受异常值的影响较小。\n",
        "为了计算$L_1$范数，我们将绝对值函数和按元素求和组合起来。\n"
      ]
    },
    {
      "cell_type": "code",
      "execution_count": 107,
      "id": "04d1229b",
      "metadata": {
        "execution": {
          "iopub.execute_input": "2023-08-18T07:17:40.349004Z",
          "iopub.status.busy": "2023-08-18T07:17:40.348720Z",
          "iopub.status.idle": "2023-08-18T07:17:40.355066Z",
          "shell.execute_reply": "2023-08-18T07:17:40.354129Z"
        },
        "origin_pos": 144,
        "tab": [
          "mxnet"
        ],
        "id": "04d1229b",
        "outputId": "f74016d1-b9f9-4968-d24c-3e0d6390ace0",
        "colab": {
          "base_uri": "https://localhost:8080/"
        }
      },
      "outputs": [
        {
          "output_type": "stream",
          "name": "stderr",
          "text": [
            "/tmp/ipython-input-107-3930143127.py:1: DeprecationWarning: __array_wrap__ must accept context and return_scalar arguments (positionally) in the future. (Deprecated NumPy 2.0)\n",
            "  np.abs(u).sum(), torch.abs(u).sum()\n"
          ]
        },
        {
          "output_type": "execute_result",
          "data": {
            "text/plain": [
              "(tensor(7.), tensor(7.))"
            ]
          },
          "metadata": {},
          "execution_count": 107
        }
      ],
      "source": [
        "np.abs(u).sum(), torch.abs(u).sum()"
      ]
    },
    {
      "cell_type": "markdown",
      "id": "46ce122a",
      "metadata": {
        "origin_pos": 148,
        "id": "46ce122a"
      },
      "source": [
        "$L_2$范数和$L_1$范数都是更一般的$L_p$范数的特例：\n",
        "\n",
        "$$\\|\\mathbf{x}\\|_p = \\left(\\sum_{i=1}^n \\left|x_i \\right|^p \\right)^{1/p}.$$\n",
        "\n",
        "类似于向量的$L_2$范数，[**矩阵**]$\\mathbf{X} \\in \\mathbb{R}^{m \\times n}$(**的*Frobenius范数*（Frobenius norm）是矩阵元素平方和的平方根：**)\n",
        "\n",
        "(**$$\\|\\mathbf{X}\\|_F = \\sqrt{\\sum_{i=1}^m \\sum_{j=1}^n x_{ij}^2}.$$**)\n",
        "\n",
        "Frobenius范数满足向量范数的所有性质，它就像是矩阵形向量的$L_2$范数。\n",
        "调用以下函数将计算矩阵的Frobenius范数。\n"
      ]
    },
    {
      "cell_type": "code",
      "execution_count": 108,
      "id": "5d7c4684",
      "metadata": {
        "execution": {
          "iopub.execute_input": "2023-08-18T07:17:40.358170Z",
          "iopub.status.busy": "2023-08-18T07:17:40.357889Z",
          "iopub.status.idle": "2023-08-18T07:17:40.364056Z",
          "shell.execute_reply": "2023-08-18T07:17:40.363251Z"
        },
        "origin_pos": 149,
        "tab": [
          "mxnet"
        ],
        "id": "5d7c4684",
        "outputId": "b1d131ba-1f03-41e0-ebe9-0939e57dae51",
        "colab": {
          "base_uri": "https://localhost:8080/"
        }
      },
      "outputs": [
        {
          "output_type": "execute_result",
          "data": {
            "text/plain": [
              "(np.float64(6.0), tensor(6.))"
            ]
          },
          "metadata": {},
          "execution_count": 108
        }
      ],
      "source": [
        "np.linalg.norm(np.ones((4, 9))), torch.norm(torch.ones((4, 9)))"
      ]
    },
    {
      "cell_type": "markdown",
      "id": "09e0edcb",
      "metadata": {
        "origin_pos": 153,
        "id": "09e0edcb"
      },
      "source": [
        "### 范数和目标\n",
        "\n",
        ":label:`subsec_norms_and_objectives`\n",
        "\n",
        "在深度学习中，我们经常试图解决优化问题：\n",
        "*最大化*分配给观测数据的概率;\n",
        "*最小化*预测和真实观测之间的距离。\n",
        "用向量表示物品（如单词、产品或新闻文章），以便最小化相似项目之间的距离，最大化不同项目之间的距离。\n",
        "目标，或许是深度学习算法最重要的组成部分（除了数据），通常被表达为范数。\n",
        "\n",
        "## 关于线性代数的更多信息\n",
        "\n",
        "仅用一节，我们就教会了阅读本书所需的、用以理解现代深度学习的线性代数。\n",
        "线性代数还有很多，其中很多数学对于机器学习非常有用。\n",
        "例如，矩阵可以分解为因子，这些分解可以显示真实世界数据集中的低维结构。\n",
        "机器学习的整个子领域都侧重于使用矩阵分解及其向高阶张量的泛化，来发现数据集中的结构并解决预测问题。\n",
        "当开始动手尝试并在真实数据集上应用了有效的机器学习模型，你会更倾向于学习更多数学。\n",
        "因此，这一节到此结束，本书将在后面介绍更多数学知识。\n",
        "\n",
        "如果渴望了解有关线性代数的更多信息，可以参考[线性代数运算的在线附录](https://d2l.ai/chapter_appendix-mathematics-for-deep-learning/geometry-linear-algebraic-ops.html)或其他优秀资源 :cite:`Strang.1993,Kolter.2008,Petersen.Pedersen.ea.2008`。\n"
      ]
    },
    {
      "cell_type": "markdown",
      "source": [
        "# 小结\n",
        "* 标量、向量、矩阵和张量是线性代数中的基本数学对象。\n",
        "* 向量泛化自标量，矩阵泛化自向量。\n",
        "* 标量、向量、矩阵和张量分别具有零、一、二和任意数量的轴。\n",
        "* 一个张量可以通过`sum`和`mean`沿指定的轴降低维度。\n",
        "* 两个矩阵的按元素乘法被称为他们的Hadamard积。它与矩阵乘法不同。\n",
        "* 在深度学习中，我们经常使用范数，如$L_1$范数、$L_2$范数和Frobenius范数。\n",
        "* 我们可以对标量、向量、矩阵和张量执行各种操作。"
      ],
      "metadata": {
        "id": "o4eBIgQ0uoMQ"
      },
      "id": "o4eBIgQ0uoMQ"
    },
    {
      "cell_type": "markdown",
      "source": [
        "# 练习\n",
        "\n",
        "1. 证明一个矩阵$\\mathbf{A}$的转置的转置是$\\mathbf{A}$，即$(\\mathbf{A}^\\top)^\\top = \\mathbf{A}$。\n",
        "1. 给出两个矩阵$\\mathbf{A}$和$\\mathbf{B}$，证明“它们转置的和”等于“它们和的转置”，即$\\mathbf{A}^\\top + \\mathbf{B}^\\top = (\\mathbf{A} + \\mathbf{B})^\\top$。\n",
        "1. 给定任意方阵$\\mathbf{A}$，$\\mathbf{A} + \\mathbf{A}^\\top$总是对称的吗?为什么?\n",
        "1. 本节中定义了形状$(2,3,4)$的张量`X`。`len(X)`的输出结果是什么？\n",
        "1. 对于任意形状的张量`X`,`len(X)`是否总是对应于`X`特定轴的长度?这个轴是什么?\n",
        "1. 运行`A/A.sum(axis=1)`，看看会发生什么。请分析一下原因？\n",
        "1. 考虑一个具有形状$(2,3,4)$的张量，在轴0、1、2上的求和输出是什么形状?\n",
        "1. 为`linalg.norm`函数提供3个或更多轴的张量，并观察其输出。对于任意形状的张量这个函数计算得到什么?"
      ],
      "metadata": {
        "id": "tUw1HTnYu3El"
      },
      "id": "tUw1HTnYu3El"
    },
    {
      "cell_type": "code",
      "source": [
        "import torch"
      ],
      "metadata": {
        "id": "vPO1ImU8vQe5"
      },
      "id": "vPO1ImU8vQe5",
      "execution_count": 3,
      "outputs": []
    },
    {
      "cell_type": "markdown",
      "source": [
        "1. 证明一个矩阵$\\mathbf{A}$的转置的转置是$\\mathbf{A}$，即$(\\mathbf{A}^\\top)^\\top = \\mathbf{A}$*。*"
      ],
      "metadata": {
        "id": "lSzTHIK5vB2r"
      },
      "id": "lSzTHIK5vB2r"
    },
    {
      "cell_type": "code",
      "source": [
        "A = torch.arange(20).reshape(4,5)\n",
        "A == A.T.T"
      ],
      "metadata": {
        "id": "Zz13CjY7vMPV",
        "outputId": "bfe40d22-98d1-45d4-9ba2-a1d0ce4f7703",
        "colab": {
          "base_uri": "https://localhost:8080/"
        }
      },
      "id": "Zz13CjY7vMPV",
      "execution_count": 7,
      "outputs": [
        {
          "output_type": "execute_result",
          "data": {
            "text/plain": [
              "tensor([[True, True, True, True, True],\n",
              "        [True, True, True, True, True],\n",
              "        [True, True, True, True, True],\n",
              "        [True, True, True, True, True]])"
            ]
          },
          "metadata": {},
          "execution_count": 7
        }
      ]
    },
    {
      "cell_type": "markdown",
      "source": [
        "2. 给出两个矩阵$\\mathbf{A}$和$\\mathbf{B}$，证明“它们转置的和”等于“它们和的转置”，即$\\mathbf{A}^\\top + \\mathbf{B}^\\top = (\\mathbf{A} + \\mathbf{B})^\\top$。"
      ],
      "metadata": {
        "id": "8sZhEO9vviQW"
      },
      "id": "8sZhEO9vviQW"
    },
    {
      "cell_type": "code",
      "source": [
        "B = torch.ones(20).reshape(4,5)\n",
        "A.T + B.T == (A + B).T"
      ],
      "metadata": {
        "id": "j-BQjB67vzsN",
        "outputId": "69417e62-c618-4f84-a09a-634bafc67e2b",
        "colab": {
          "base_uri": "https://localhost:8080/"
        }
      },
      "id": "j-BQjB67vzsN",
      "execution_count": 9,
      "outputs": [
        {
          "output_type": "execute_result",
          "data": {
            "text/plain": [
              "tensor([[True, True, True, True],\n",
              "        [True, True, True, True],\n",
              "        [True, True, True, True],\n",
              "        [True, True, True, True],\n",
              "        [True, True, True, True]])"
            ]
          },
          "metadata": {},
          "execution_count": 9
        }
      ]
    },
    {
      "cell_type": "markdown",
      "source": [
        "3. 给定任意方阵$\\mathbf{A}$，$\\mathbf{A} + \\mathbf{A}^\\top$总是对称的吗?为什么?\n",
        "\n",
        "  **是的**"
      ],
      "metadata": {
        "id": "DYu_W836wOFW"
      },
      "id": "DYu_W836wOFW"
    },
    {
      "cell_type": "code",
      "source": [
        "A = torch.randn(16).reshape(4,4)\n",
        "A + A.T"
      ],
      "metadata": {
        "id": "-1Ub0nQ-wSfo",
        "outputId": "e7e156ff-b501-453f-e07f-829bf78235a9",
        "colab": {
          "base_uri": "https://localhost:8080/"
        }
      },
      "id": "-1Ub0nQ-wSfo",
      "execution_count": 11,
      "outputs": [
        {
          "output_type": "execute_result",
          "data": {
            "text/plain": [
              "tensor([[ 0.2636, -1.2209,  1.2442, -0.8703],\n",
              "        [-1.2209, -1.4992, -2.3373,  0.6519],\n",
              "        [ 1.2442, -2.3373, -1.6092, -0.8097],\n",
              "        [-0.8703,  0.6519, -0.8097,  5.1318]])"
            ]
          },
          "metadata": {},
          "execution_count": 11
        }
      ]
    },
    {
      "cell_type": "markdown",
      "source": [
        "4. 本节中定义了形状$(2,3,4)$的张量`X`。`len(X)`的输出结果是什么？\n",
        "\n",
        "  **张量的第一维度2。**"
      ],
      "metadata": {
        "id": "3JDFreD2xMyR"
      },
      "id": "3JDFreD2xMyR"
    },
    {
      "cell_type": "code",
      "source": [
        "X = torch.arange(24).reshape(2,3,4)\n",
        "len(X)"
      ],
      "metadata": {
        "id": "nguGYoiKxQXo",
        "outputId": "469da571-d1db-4588-b136-ac73f76cd5b0",
        "colab": {
          "base_uri": "https://localhost:8080/"
        }
      },
      "id": "nguGYoiKxQXo",
      "execution_count": 117,
      "outputs": [
        {
          "output_type": "execute_result",
          "data": {
            "text/plain": [
              "2"
            ]
          },
          "metadata": {},
          "execution_count": 117
        }
      ]
    },
    {
      "cell_type": "markdown",
      "source": [
        "5. 对于任意形状的张量`X`,`len(X)`是否总是对应于`X`特定轴的长度?这个轴是什么?\n",
        "  \n",
        "  **张量的第一维度**"
      ],
      "metadata": {
        "id": "vCCh5WDexurH"
      },
      "id": "vCCh5WDexurH"
    },
    {
      "cell_type": "markdown",
      "source": [
        "6. 运行`A/A.sum(axis=1)`，看看会发生什么。请分析一下原因？"
      ],
      "metadata": {
        "id": "O5SAUd0TyEYO"
      },
      "id": "O5SAUd0TyEYO"
    },
    {
      "cell_type": "code",
      "source": [
        "A = torch.arange(9).reshape(3,3)\n",
        "A, A.sum(axis=1), A/A.sum(axis=1)"
      ],
      "metadata": {
        "id": "4Xumw-T-yNdy",
        "outputId": "81712aa2-77c8-4aa5-8766-5c7bb1c16e64",
        "colab": {
          "base_uri": "https://localhost:8080/"
        }
      },
      "id": "4Xumw-T-yNdy",
      "execution_count": 14,
      "outputs": [
        {
          "output_type": "execute_result",
          "data": {
            "text/plain": [
              "(tensor([[0, 1, 2],\n",
              "         [3, 4, 5],\n",
              "         [6, 7, 8]]),\n",
              " tensor([ 3, 12, 21]),\n",
              " tensor([[0.0000, 0.0833, 0.0952],\n",
              "         [1.0000, 0.3333, 0.2381],\n",
              "         [2.0000, 0.5833, 0.3810]]))"
            ]
          },
          "metadata": {},
          "execution_count": 14
        }
      ]
    },
    {
      "cell_type": "code",
      "source": [
        "A = torch.arange(20).reshape(5,4)\n",
        "A, A.sum(axis=1), A.shape, A.sum(axis=1).shape  #挤压并计算维度=1的和，保留维度0"
      ],
      "metadata": {
        "id": "6s_unN5tzOoc",
        "outputId": "b2b38c65-5355-41a0-8043-a34e5b4f82a9",
        "colab": {
          "base_uri": "https://localhost:8080/"
        }
      },
      "id": "6s_unN5tzOoc",
      "execution_count": 19,
      "outputs": [
        {
          "output_type": "execute_result",
          "data": {
            "text/plain": [
              "(tensor([[ 0,  1,  2,  3],\n",
              "         [ 4,  5,  6,  7],\n",
              "         [ 8,  9, 10, 11],\n",
              "         [12, 13, 14, 15],\n",
              "         [16, 17, 18, 19]]),\n",
              " tensor([ 6, 22, 38, 54, 70]),\n",
              " torch.Size([5, 4]),\n",
              " torch.Size([4]))"
            ]
          },
          "metadata": {},
          "execution_count": 19
        }
      ]
    },
    {
      "cell_type": "code",
      "source": [
        "A/A.sum(axis=1) #维度不相同，无法进行广播运算"
      ],
      "metadata": {
        "id": "0azUUrVKzasO",
        "outputId": "72d58057-df34-4bfc-bb6a-c9495e42b4d1",
        "colab": {
          "base_uri": "https://localhost:8080/",
          "height": 146
        }
      },
      "id": "0azUUrVKzasO",
      "execution_count": 17,
      "outputs": [
        {
          "output_type": "error",
          "ename": "RuntimeError",
          "evalue": "The size of tensor a (4) must match the size of tensor b (5) at non-singleton dimension 1",
          "traceback": [
            "\u001b[0;31m---------------------------------------------------------------------------\u001b[0m",
            "\u001b[0;31mRuntimeError\u001b[0m                              Traceback (most recent call last)",
            "\u001b[0;32m/tmp/ipython-input-17-314765561.py\u001b[0m in \u001b[0;36m<cell line: 0>\u001b[0;34m()\u001b[0m\n\u001b[0;32m----> 1\u001b[0;31m \u001b[0mA\u001b[0m\u001b[0;34m.\u001b[0m\u001b[0mshape\u001b[0m\u001b[0;34m,\u001b[0m \u001b[0mA\u001b[0m\u001b[0;34m.\u001b[0m\u001b[0msum\u001b[0m\u001b[0;34m(\u001b[0m\u001b[0maxis\u001b[0m\u001b[0;34m=\u001b[0m\u001b[0;36m1\u001b[0m\u001b[0;34m)\u001b[0m\u001b[0;34m.\u001b[0m\u001b[0mshape\u001b[0m\u001b[0;34m,\u001b[0m \u001b[0mA\u001b[0m\u001b[0;34m/\u001b[0m\u001b[0mA\u001b[0m\u001b[0;34m.\u001b[0m\u001b[0msum\u001b[0m\u001b[0;34m(\u001b[0m\u001b[0maxis\u001b[0m\u001b[0;34m=\u001b[0m\u001b[0;36m1\u001b[0m\u001b[0;34m)\u001b[0m\u001b[0;34m\u001b[0m\u001b[0;34m\u001b[0m\u001b[0m\n\u001b[0m",
            "\u001b[0;31mRuntimeError\u001b[0m: The size of tensor a (4) must match the size of tensor b (5) at non-singleton dimension 1"
          ]
        }
      ]
    },
    {
      "cell_type": "markdown",
      "source": [
        "7. 考虑一个具有形状$(2,3,4)$的张量，在轴0、1、2上的求和输出是什么形状?"
      ],
      "metadata": {
        "id": "_V3IGFOhyIi2"
      },
      "id": "_V3IGFOhyIi2"
    },
    {
      "cell_type": "code",
      "source": [
        "X = torch.arange(24).reshape(2,3,4)\n",
        "X, X.shape"
      ],
      "metadata": {
        "id": "My9RuTSx1HXR",
        "outputId": "7e04f128-535c-45b6-907c-ed8840b7f665",
        "colab": {
          "base_uri": "https://localhost:8080/"
        }
      },
      "id": "My9RuTSx1HXR",
      "execution_count": 21,
      "outputs": [
        {
          "output_type": "execute_result",
          "data": {
            "text/plain": [
              "(tensor([[[ 0,  1,  2,  3],\n",
              "          [ 4,  5,  6,  7],\n",
              "          [ 8,  9, 10, 11]],\n",
              " \n",
              "         [[12, 13, 14, 15],\n",
              "          [16, 17, 18, 19],\n",
              "          [20, 21, 22, 23]]]),\n",
              " torch.Size([2, 3, 4]))"
            ]
          },
          "metadata": {},
          "execution_count": 21
        }
      ]
    },
    {
      "cell_type": "code",
      "source": [
        "X.sum(axis=0), X.sum(axis=0).shape"
      ],
      "metadata": {
        "id": "VpjPg88w1Xx4",
        "outputId": "9af388c3-890e-40cc-c3fe-66dd71e7e94b",
        "colab": {
          "base_uri": "https://localhost:8080/"
        }
      },
      "id": "VpjPg88w1Xx4",
      "execution_count": 22,
      "outputs": [
        {
          "output_type": "execute_result",
          "data": {
            "text/plain": [
              "(tensor([[12, 14, 16, 18],\n",
              "         [20, 22, 24, 26],\n",
              "         [28, 30, 32, 34]]),\n",
              " torch.Size([3, 4]))"
            ]
          },
          "metadata": {},
          "execution_count": 22
        }
      ]
    },
    {
      "cell_type": "code",
      "source": [
        "X.sum(axis=1), X.sum(axis=1).shape"
      ],
      "metadata": {
        "id": "HIQNOy0p1ay4",
        "outputId": "05e7086b-f693-4782-e0dc-fe76197832d1",
        "colab": {
          "base_uri": "https://localhost:8080/"
        }
      },
      "id": "HIQNOy0p1ay4",
      "execution_count": 23,
      "outputs": [
        {
          "output_type": "execute_result",
          "data": {
            "text/plain": [
              "(tensor([[12, 15, 18, 21],\n",
              "         [48, 51, 54, 57]]),\n",
              " torch.Size([2, 4]))"
            ]
          },
          "metadata": {},
          "execution_count": 23
        }
      ]
    },
    {
      "cell_type": "code",
      "source": [
        "X.sum(axis=2), X.sum(axis=2).shape"
      ],
      "metadata": {
        "id": "HGLg2k3K1e-9",
        "outputId": "dba8b052-7d86-4d26-fe75-24b6d54ae01e",
        "colab": {
          "base_uri": "https://localhost:8080/"
        }
      },
      "id": "HGLg2k3K1e-9",
      "execution_count": 24,
      "outputs": [
        {
          "output_type": "execute_result",
          "data": {
            "text/plain": [
              "(tensor([[ 6, 22, 38],\n",
              "         [54, 70, 86]]),\n",
              " torch.Size([2, 3]))"
            ]
          },
          "metadata": {},
          "execution_count": 24
        }
      ]
    },
    {
      "cell_type": "code",
      "source": [
        "X.sum(axis=2,keepdim=True)"
      ],
      "metadata": {
        "id": "YQCVlqGD2MUx",
        "outputId": "4a1d7833-c3ea-43bd-cb7b-1decb7cb2a46",
        "colab": {
          "base_uri": "https://localhost:8080/"
        }
      },
      "id": "YQCVlqGD2MUx",
      "execution_count": 28,
      "outputs": [
        {
          "output_type": "execute_result",
          "data": {
            "text/plain": [
              "tensor([[[ 6],\n",
              "         [22],\n",
              "         [38]],\n",
              "\n",
              "        [[54],\n",
              "         [70],\n",
              "         [86]]])"
            ]
          },
          "metadata": {},
          "execution_count": 28
        }
      ]
    },
    {
      "cell_type": "markdown",
      "source": [
        "8. 为`linalg.norm`函数提供3个或更多轴的张量，并观察其输出。对于任意形状的张量这个函数计算得到什么?\n",
        "\n",
        "  **计算得到将这个矩阵中每个元素平方和再开根号**"
      ],
      "metadata": {
        "id": "HZMklMf8yLYG"
      },
      "id": "HZMklMf8yLYG"
    },
    {
      "cell_type": "code",
      "source": [
        "import numpy as np"
      ],
      "metadata": {
        "id": "mr6E60_33bv4"
      },
      "id": "mr6E60_33bv4",
      "execution_count": 32,
      "outputs": []
    },
    {
      "cell_type": "code",
      "source": [
        "Y = torch.arange(120,dtype=float).reshape(2,3,4,5)\n",
        "Y, torch.norm(Y), np.linalg.norm(Y)"
      ],
      "metadata": {
        "id": "WyXr4B4T2ndR",
        "outputId": "0440dcf1-686f-4697-8128-57669b6acabc",
        "colab": {
          "base_uri": "https://localhost:8080/"
        }
      },
      "id": "WyXr4B4T2ndR",
      "execution_count": 36,
      "outputs": [
        {
          "output_type": "execute_result",
          "data": {
            "text/plain": [
              "(tensor([[[[  0.,   1.,   2.,   3.,   4.],\n",
              "           [  5.,   6.,   7.,   8.,   9.],\n",
              "           [ 10.,  11.,  12.,  13.,  14.],\n",
              "           [ 15.,  16.,  17.,  18.,  19.]],\n",
              " \n",
              "          [[ 20.,  21.,  22.,  23.,  24.],\n",
              "           [ 25.,  26.,  27.,  28.,  29.],\n",
              "           [ 30.,  31.,  32.,  33.,  34.],\n",
              "           [ 35.,  36.,  37.,  38.,  39.]],\n",
              " \n",
              "          [[ 40.,  41.,  42.,  43.,  44.],\n",
              "           [ 45.,  46.,  47.,  48.,  49.],\n",
              "           [ 50.,  51.,  52.,  53.,  54.],\n",
              "           [ 55.,  56.,  57.,  58.,  59.]]],\n",
              " \n",
              " \n",
              "         [[[ 60.,  61.,  62.,  63.,  64.],\n",
              "           [ 65.,  66.,  67.,  68.,  69.],\n",
              "           [ 70.,  71.,  72.,  73.,  74.],\n",
              "           [ 75.,  76.,  77.,  78.,  79.]],\n",
              " \n",
              "          [[ 80.,  81.,  82.,  83.,  84.],\n",
              "           [ 85.,  86.,  87.,  88.,  89.],\n",
              "           [ 90.,  91.,  92.,  93.,  94.],\n",
              "           [ 95.,  96.,  97.,  98.,  99.]],\n",
              " \n",
              "          [[100., 101., 102., 103., 104.],\n",
              "           [105., 106., 107., 108., 109.],\n",
              "           [110., 111., 112., 113., 114.],\n",
              "           [115., 116., 117., 118., 119.]]]], dtype=torch.float64),\n",
              " tensor(754.2016, dtype=torch.float64),\n",
              " np.float64(754.2015645701088))"
            ]
          },
          "metadata": {},
          "execution_count": 36
        }
      ]
    }
  ],
  "metadata": {
    "kernelspec": {
      "display_name": "Python 3",
      "name": "python3"
    },
    "language_info": {
      "name": "python"
    },
    "required_libs": [],
    "colab": {
      "provenance": [],
      "toc_visible": true,
      "gpuType": "T4",
      "include_colab_link": true
    }
  },
  "nbformat": 4,
  "nbformat_minor": 5
}